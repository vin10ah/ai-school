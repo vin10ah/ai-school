{
 "cells": [
  {
   "cell_type": "markdown",
   "metadata": {
    "school_cell_uuid": "3f982c42a05543b1be7df7e511be3246"
   },
   "source": [
    "# 3.5 난수 발생과 카운팅"
   ]
  },
  {
   "cell_type": "markdown",
   "metadata": {
    "school_cell_uuid": "daedb1a1432d41039d738327d92dc9f6"
   },
   "source": [
    "파이썬을 이용하여 데이터를 무작위로 섞거나 임의의 수 즉, 난수(random number)를 발생시키는 방법에 대해 알아본다. 이 기능은 주로 NumPy의 random 서브패키지에서 제공한다."
   ]
  },
  {
   "cell_type": "markdown",
   "metadata": {
    "school_cell_uuid": "4388755335d6472f94fbf2e56cb892e4"
   },
   "source": [
    "## 시드 설정하기"
   ]
  },
  {
   "cell_type": "markdown",
   "metadata": {
    "school_cell_uuid": "155352cb8ec04206a8889926b61ba967"
   },
   "source": [
    "컴퓨터 프로그램에서 발생하는 무작위 수는 사실 엄격한 의미의 무작위 수가 아니다. 어떤 특정한 시작 숫자를 정해 주면 컴퓨터가 정해진 알고리즘에 의해 마치 난수처럼 보이는 수열을 생성한다. 이런 시작 숫자를 시드(seed)라고 한다. 일단 생성된 난수는 다음번 난수 생성을 위한 시드값이 된다. 따라서 시드값은 한 번만 정해주면 된다. 시드는 보통 현재 시각등을 이용하여 자동으로 정해지지만 사람이 수동으로 설정할 수도 있다. 특정한 시드값이 사용되면 그 다음에 만들어지는 난수들은 모두 예측할 수 있다. 이 책에서는 코드의 결과를 재현하기 위해 항상 시드를 설정한다."
   ]
  },
  {
   "cell_type": "markdown",
   "metadata": {
    "school_cell_uuid": "bb61a3f27f534e80b893e93e2b9af486"
   },
   "source": [
    "파이썬에서 시드를 설정하는 함수는 `seed`이다. 인수로는 0과 같거나 큰 정수를 넣어준다."
   ]
  },
  {
   "cell_type": "code",
   "execution_count": 5,
   "metadata": {},
   "outputs": [],
   "source": [
    "import numpy as np"
   ]
  },
  {
   "cell_type": "code",
   "execution_count": null,
   "metadata": {
    "school_cell_uuid": "4f8d6524f35f424286b4a4d611142313"
   },
   "outputs": [],
   "source": [
    "np.random.rand(5)"
   ]
  },
  {
   "cell_type": "markdown",
   "metadata": {
    "school_cell_uuid": "290b77b6d1ad42b4932e4095c2430ac2"
   },
   "source": [
    "이렇게 시드를 설정한 후 넘파이 random 서브패키지에 있는 `rand` 함수로 5개의 난수를 생성해 보자. `rand` 함수는 0과 1사이의 난수를 발생시키는 함수로 인수로 받은 숫자 횟수만큼 난수를 발생시킨다."
   ]
  },
  {
   "cell_type": "markdown",
   "metadata": {
    "school_cell_uuid": "caa5d231bd9d4368ace5b70129add1bc"
   },
   "source": [
    "몇번 더 난수를 생성해보자. 사람이 예측할 수 없는 무작위 숫자가 나오는 것을 볼 수 있다."
   ]
  },
  {
   "cell_type": "code",
   "execution_count": null,
   "metadata": {
    "school_cell_uuid": "de1a522ed5324507bfd2b75d3fa5d452"
   },
   "outputs": [],
   "source": []
  },
  {
   "cell_type": "code",
   "execution_count": null,
   "metadata": {
    "school_cell_uuid": "90f02a6ba6f4486b8330bd77b5974144"
   },
   "outputs": [],
   "source": []
  },
  {
   "cell_type": "markdown",
   "metadata": {
    "school_cell_uuid": "dec6532c35064e7bbd7f02375ef8d824"
   },
   "source": [
    "이제 시드를 0으로 재설정하고 다시 난수를 발생시켜 본다."
   ]
  },
  {
   "cell_type": "code",
   "execution_count": null,
   "metadata": {
    "school_cell_uuid": "b8faa78bf7054d7784192bd816e093d2"
   },
   "outputs": [],
   "source": []
  },
  {
   "cell_type": "code",
   "execution_count": null,
   "metadata": {
    "school_cell_uuid": "bf4ee192cd644ddfab2ac2d8ca287d70",
    "scrolled": true
   },
   "outputs": [],
   "source": []
  },
  {
   "cell_type": "code",
   "execution_count": null,
   "metadata": {
    "school_cell_uuid": "8c518b19a3fa4346b941418270153beb",
    "scrolled": true
   },
   "outputs": [],
   "source": []
  },
  {
   "cell_type": "code",
   "execution_count": null,
   "metadata": {
    "school_cell_uuid": "f0fe2a52f387440dbe13818a057041b3",
    "scrolled": true
   },
   "outputs": [],
   "source": []
  },
  {
   "cell_type": "markdown",
   "metadata": {
    "school_cell_uuid": "f19108f4f2be4fb5a1d06ffae539452c"
   },
   "source": [
    "아까와 같은 숫자가 나오는 것을 확인할 수 있다."
   ]
  },
  {
   "cell_type": "markdown",
   "metadata": {
    "school_cell_uuid": "5636e99b86c740bf9735ac9f4638b43a"
   },
   "source": [
    "## 데이터의 순서 바꾸기"
   ]
  },
  {
   "cell_type": "markdown",
   "metadata": {
    "school_cell_uuid": "1174c7b0b0fb4bfaa6354cc729b63825"
   },
   "source": [
    "데이터의 순서를 바꾸려면 `shuffle` 함수를 사용한다. `shuffle` 함수도 자체 변환(in-place) 함수로 한 번 사용하면 변수의 값이 바뀌므로 사용에 주의해야 한다. "
   ]
  },
  {
   "cell_type": "code",
   "execution_count": null,
   "metadata": {
    "school_cell_uuid": "54337809fac54417b262a402cc043c83"
   },
   "outputs": [],
   "source": []
  },
  {
   "cell_type": "code",
   "execution_count": null,
   "metadata": {
    "school_cell_uuid": "e43809a5526b45ba866738aeec1a3181"
   },
   "outputs": [],
   "source": []
  },
  {
   "cell_type": "markdown",
   "metadata": {
    "school_cell_uuid": "e33873a7680b4db3a82adcf7ff230521"
   },
   "source": [
    "## 데이터 샘플링"
   ]
  },
  {
   "cell_type": "markdown",
   "metadata": {
    "school_cell_uuid": "598c5aefaa0b45518c95e9c86b238d7d"
   },
   "source": [
    "이미 있는 데이터 집합에서 일부를 무작위로 선택하는 것을 표본선택 혹은 샘플링(sampling)이라고 한다. 샘플링에는 `choice` 함수를 사용한다. `choice` 함수는 다음과 같은 인수를 가질 수 있다.\n",
    "\n",
    "\n",
    "`numpy.random.choice(a, size=None, replace=True, p=None)`\n",
    "\n",
    "* a : 배열이면 원래의 데이터, 정수이면 arange(a) 명령으로 데이터 생성\n",
    "* size : 정수. 샘플 숫자\n",
    "* replace : 불리언. True이면 한번 선택한 데이터를 다시 선택 가능\n",
    "* p : 배열. 각 데이터가 선택될 수 있는 확률\n"
   ]
  },
  {
   "cell_type": "code",
   "execution_count": 7,
   "metadata": {
    "school_cell_uuid": "195092f9d0c64f86a52e249c7128f660"
   },
   "outputs": [
    {
     "ename": "NameError",
     "evalue": "name 'x' is not defined",
     "output_type": "error",
     "traceback": [
      "\u001b[0;31m---------------------------------------------------------------------------\u001b[0m",
      "\u001b[0;31mNameError\u001b[0m                                 Traceback (most recent call last)",
      "Cell \u001b[0;32mIn[7], line 1\u001b[0m\n\u001b[0;32m----> 1\u001b[0m np\u001b[38;5;241m.\u001b[39mrandom\u001b[38;5;241m.\u001b[39mchoice(\u001b[43mx\u001b[49m, size\u001b[38;5;241m=\u001b[39m\u001b[38;5;241m5\u001b[39m, replace\u001b[38;5;241m=\u001b[39m\u001b[38;5;28;01mTrue\u001b[39;00m)\n",
      "\u001b[0;31mNameError\u001b[0m: name 'x' is not defined"
     ]
    }
   ],
   "source": [
    "np.random.choice(x, size=5, replace=True)"
   ]
  },
  {
   "cell_type": "code",
   "execution_count": null,
   "metadata": {
    "school_cell_uuid": "3c8979fa989540edb94ffab310dab17f"
   },
   "outputs": [],
   "source": []
  },
  {
   "cell_type": "code",
   "execution_count": null,
   "metadata": {
    "school_cell_uuid": "f5c65dcb449942d8be803c160d0844fd"
   },
   "outputs": [],
   "source": []
  },
  {
   "cell_type": "code",
   "execution_count": null,
   "metadata": {
    "school_cell_uuid": "589fc9ada99f408eaf3d98e6ba35bd50"
   },
   "outputs": [],
   "source": []
  },
  {
   "cell_type": "markdown",
   "metadata": {
    "school_cell_uuid": "44ca88ce88f247eea71d8170c98ab17f"
   },
   "source": [
    "## 난수 생성"
   ]
  },
  {
   "cell_type": "markdown",
   "metadata": {
    "school_cell_uuid": "0fbfd061953b4601ba42d4140e92bdba"
   },
   "source": [
    "넘파이의 random 서브패키지는 이외에도 난수를 생성하는 다양한 함수를 제공한다. 그 중 가장 간단하고 많이 사용되는 것은 다음 3가지 함수다.\n",
    "\n",
    "* `rand`: 0부터 1사이의 균일 분포 \n",
    "* `randn`: 표준 정규 분포\n",
    "* `randint`: 균일 분포의 정수 난수"
   ]
  },
  {
   "cell_type": "markdown",
   "metadata": {
    "school_cell_uuid": "e96902fa552f4ec1819075e81184b812"
   },
   "source": [
    "`rand` 함수는 0부터 1사이에서 균일한 확률 분포로 실수 난수를 생성한다. 숫자 인수는 생성할 난수의 크기이다. 여러개의 인수를 넣으면 해당 크기를 가진 행렬을 생성한다."
   ]
  },
  {
   "cell_type": "code",
   "execution_count": null,
   "metadata": {
    "school_cell_uuid": "edaa191590d4424c991a4cd50ed92578"
   },
   "outputs": [],
   "source": []
  },
  {
   "cell_type": "code",
   "execution_count": null,
   "metadata": {
    "school_cell_uuid": "257e6d1f19b44fdab7e7f786f2bf2d1f"
   },
   "outputs": [],
   "source": []
  },
  {
   "cell_type": "markdown",
   "metadata": {
    "school_cell_uuid": "f02d488571cb453c8970b5b53ff29cb2"
   },
   "source": [
    "`randn` 함수는 기댓값이 0이고 표준편차가 1인 표준 정규 분포(standard normal distribution)를 따르는 난수를 생성한다. 인수 사용법은 `rand` 명령과 같다."
   ]
  },
  {
   "cell_type": "code",
   "execution_count": null,
   "metadata": {
    "school_cell_uuid": "b393b3254efe47d59c0fa9f2b59b9904"
   },
   "outputs": [],
   "source": []
  },
  {
   "cell_type": "code",
   "execution_count": null,
   "metadata": {
    "school_cell_uuid": "adee3d18094e4f33b0d7a8f32a030154"
   },
   "outputs": [],
   "source": []
  },
  {
   "cell_type": "markdown",
   "metadata": {
    "school_cell_uuid": "3ed798c061fc49588e1a07699c648c81"
   },
   "source": [
    "`randint` 함수는 다음과 같은 인수를 가진다.\n",
    "\n",
    "`numpy.random.randint(low, high=None, size=None)`\n",
    "\n",
    "만약 `high`를 입력하지 않으면 0과 `low`사이의 숫자를, `high`를 입력하면 `low`와 `high`는 사이의 숫자를 출력한다. `size`는 난수의 숫자이다."
   ]
  },
  {
   "cell_type": "code",
   "execution_count": null,
   "metadata": {
    "school_cell_uuid": "89d766b0dad34a1e9efd1f632ae501b9"
   },
   "outputs": [],
   "source": []
  },
  {
   "cell_type": "code",
   "execution_count": null,
   "metadata": {
    "school_cell_uuid": "8300e6038dca4666a922d0b9ef18c5b2"
   },
   "outputs": [],
   "source": []
  },
  {
   "cell_type": "code",
   "execution_count": null,
   "metadata": {
    "school_cell_uuid": "683d2572fa3d4dd6959e25dbd40cec1c"
   },
   "outputs": [],
   "source": []
  },
  {
   "cell_type": "markdown",
   "metadata": {},
   "source": [
    "```{admonition} 연습 문제 3.5.1\n",
    "\n",
    "1. 동전을 10번 던져 앞면(숫자 1)과 뒷면(숫자 0)이 나오는 가상 실험을 파이썬으로 작성한다.\n",
    "2. 주사위를 100번 던져서 나오는 숫자의 평균을 구하라.\n",
    "```"
   ]
  },
  {
   "cell_type": "code",
   "execution_count": 9,
   "metadata": {},
   "outputs": [],
   "source": [
    "x = np.random.randint(1, 7, 100)"
   ]
  },
  {
   "cell_type": "code",
   "execution_count": 10,
   "metadata": {},
   "outputs": [
    {
     "data": {
      "text/plain": [
       "3.34"
      ]
     },
     "execution_count": 10,
     "metadata": {},
     "output_type": "execute_result"
    }
   ],
   "source": [
    "x.mean()"
   ]
  },
  {
   "cell_type": "markdown",
   "metadata": {},
   "source": [
    "```{admonition} 연습 문제 3.5.2\n",
    "\n",
    "가격이 10,000원인 주식이 있다. 이 주식의 일간 수익률(%)은 기댓값이 0%이고 표준편차가 1%인 표준 정규 분포를 따른다고 하자.\n",
    "250일 동안의 주가를 무작위로 생성하라\n",
    "```"
   ]
  },
  {
   "cell_type": "code",
   "execution_count": 26,
   "metadata": {},
   "outputs": [],
   "source": [
    "rate = np.random.randn(250)"
   ]
  },
  {
   "cell_type": "code",
   "execution_count": 27,
   "metadata": {},
   "outputs": [],
   "source": [
    "rate = rate/100+1"
   ]
  },
  {
   "cell_type": "code",
   "execution_count": 28,
   "metadata": {},
   "outputs": [
    {
     "data": {
      "text/plain": [
       "array([10042.08670906, 10130.84861068,  9941.02738614,  9872.55745245,\n",
       "        9940.07022802, 10046.60940712,  9922.66763375,  9873.40511618,\n",
       "        9986.00913861, 10112.92253385,  9899.02820888,  9960.88892554,\n",
       "        9971.19702765, 10116.0477261 ,  9900.45897174,  9971.61078104,\n",
       "        9863.84012591, 10089.82830967, 10032.26739604, 10002.3216708 ,\n",
       "        9931.61939508,  9960.11471217, 10050.5219282 , 10084.00063433,\n",
       "       10091.66445485,  9990.78811785, 10119.69125766,  9963.22017634,\n",
       "       10012.33835491,  9954.34491248,  9929.02313614, 10210.99671348,\n",
       "       10018.99181027,  9897.86743885, 10093.50050928, 10035.17122693,\n",
       "        9926.79913731,  9985.2133901 ,  9834.83640077,  9965.50995999,\n",
       "       10032.39875067,  9811.0949005 ,  9971.80548241,  9881.20303805,\n",
       "       10110.08585844,  9976.52524129,  9958.71114894,  9992.15226036,\n",
       "       10089.96718106, 10011.03367762,  9936.20723378, 10164.48459867,\n",
       "       10036.44175656,  9970.85488303, 10056.53240407, 10068.13031492,\n",
       "        9888.18483065,  9891.69394387, 10125.31849914,  9930.68776686,\n",
       "        9990.29473051, 10036.13473375,  9950.69102477, 10042.45535507,\n",
       "        9776.40565569,  9960.54068316, 10235.99533775, 10055.59007987,\n",
       "        9971.55774605,  9876.08623882,  9987.69091288,  9927.90084483,\n",
       "        9972.51701726, 10025.82044437, 10123.41966085,  9936.05916914,\n",
       "        9989.2898944 ,  9953.9403819 ,  9826.18824305,  9979.56553871,\n",
       "        9952.43160288,  9911.19223408, 10182.69697441,  9996.71397701,\n",
       "        9914.79757967, 10009.04288191,  9899.73862373, 10055.53807644,\n",
       "       10008.01365437, 10125.93276091, 10076.71602865, 10031.29301926,\n",
       "        9971.68833104,  9912.22624788,  9922.36838305, 10069.46164004,\n",
       "        9937.81248535,  9855.77368665, 10069.65111651,  9845.23236467,\n",
       "        9993.01692731, 10087.8581947 , 10073.3620106 ,  9913.07448077,\n",
       "       10108.17639984, 10035.61214845,  9887.25904169, 10257.56141027,\n",
       "       10143.42025364,  9945.16033639,  9927.51109159, 10036.69123449,\n",
       "       10075.54220388,  9964.03932693,  9988.43577367,  9963.62340471,\n",
       "        9981.39558524,  9799.71107737,  9906.25899018, 10064.41531515,\n",
       "        9947.13970902,  9888.09928704,  9961.99831326,  9996.2035658 ,\n",
       "       10102.04460975, 10009.95491839,  9953.96096298,  9803.1746135 ,\n",
       "       10051.11775012,  9999.0434948 , 10048.01627686,  9925.7793713 ,\n",
       "        9913.42458966,  9994.68162323,  9959.26547582, 10067.28052127,\n",
       "       10009.92112387,  9904.36343166, 10065.50485631, 10101.81576463,\n",
       "       10122.28018263,  9985.7438425 , 10014.88342855, 10016.15546506,\n",
       "        9950.43586172,  9993.82855023, 10020.86906435, 10031.56250235,\n",
       "       10011.37922644, 10036.85419041,  9814.7407832 ,  9841.35602194,\n",
       "       10104.30518032, 10029.17113432,  9913.77445627,  9891.34238788,\n",
       "       10280.97707107, 10027.62712335,  9981.94333164,  9811.06476342,\n",
       "       10111.51152562, 10110.83068456,  9830.35625392, 10059.99280025,\n",
       "       10022.80464236,  9815.60409094, 10171.2495147 , 10058.56427932,\n",
       "        9822.06519038, 10056.68479887, 10141.99669997, 10040.82227946,\n",
       "        9959.48815846, 10071.44899968, 10014.68583441,  9955.1862586 ,\n",
       "        9974.87984535,  9715.95449484, 10105.10539019, 10037.99508227,\n",
       "       10004.9454505 ,  9810.55863251, 10022.31951214,  9972.42787193,\n",
       "       10043.77430847, 10037.8366999 ,  9954.87739492, 10158.52091934,\n",
       "        9807.08713557, 10058.6903135 , 10071.91563941, 10021.25602021,\n",
       "        9868.99872302,  9917.88550995,  9869.72511743, 10211.02717261,\n",
       "        9912.9615881 ,  9979.8091347 , 10103.16807934, 10157.66024527,\n",
       "        9967.71050506,  9897.53495225,  9879.69840908,  9856.25817579,\n",
       "        9768.04603302, 10094.16874787,  9982.47358185,  9990.58742512,\n",
       "        9930.84677366, 10170.30407686, 10027.37152321,  9948.88057169,\n",
       "        9928.95749509, 10247.69394275, 10062.35890024,  9988.48505706,\n",
       "       10032.38991385,  9901.90517101,  9843.22687379, 10063.33886813,\n",
       "        9953.34083735, 10193.76216012,  9864.57977687, 10031.24248111,\n",
       "        9989.6906408 , 10087.3281578 , 10071.11000425,  9900.42644246,\n",
       "        9960.28464412, 10043.90697372,  9902.44367902, 10023.35047556,\n",
       "        9965.79568392,  9943.54499773,  9925.20248308, 10041.55445775,\n",
       "        9964.58198641, 10059.16980913,  9917.21834369,  9804.39587835,\n",
       "        9996.78376993, 10080.44471402,  9966.58995524,  9896.96526752,\n",
       "        9951.00526978, 10079.64491804, 10008.3958146 ,  9967.48729325,\n",
       "       10110.00951438,  9979.25384448])"
      ]
     },
     "execution_count": 28,
     "metadata": {},
     "output_type": "execute_result"
    }
   ],
   "source": [
    "rate * 10000"
   ]
  },
  {
   "cell_type": "markdown",
   "metadata": {
    "school_cell_uuid": "6d80567ed2a9472a867cf1d2bbccfb6f"
   },
   "source": [
    "## 정수 데이터 카운팅"
   ]
  },
  {
   "cell_type": "markdown",
   "metadata": {
    "school_cell_uuid": "05b6fc5e9d514f3fa4f1927eea6dc44e"
   },
   "source": [
    "이렇게 발생시킨 난수가 실수값이면 히스토그램 등을 사용하여 분석하면 된다. 히스토그램을 시각화 부분에서 나중에 자세히 설명한다.\n",
    "\n",
    "만약 난수가 정수값이면 `unique` 명령이나 `bincount` 명령으로 데이터 값을 분석할 수 있다. "
   ]
  },
  {
   "cell_type": "markdown",
   "metadata": {
    "school_cell_uuid": "207d493df5064b45af5eac70e2332e40"
   },
   "source": [
    "`unique` 함수는 데이터에서 중복된 값을 제거하고 중복되지 않는 값의 리스트를 출력한다. `return_counts` 인수를 `True` 로 설정하면 각 값을 가진 데이터 갯수도 출력한다."
   ]
  },
  {
   "cell_type": "code",
   "execution_count": 30,
   "metadata": {
    "school_cell_uuid": "e7448ae7264c49e8ac97ad96e40f3cab"
   },
   "outputs": [],
   "source": [
    "x = np.arange(10)"
   ]
  },
  {
   "cell_type": "code",
   "execution_count": 43,
   "metadata": {
    "school_cell_uuid": "79c2907103b14088a59fdf122e3dab67"
   },
   "outputs": [],
   "source": []
  },
  {
   "cell_type": "code",
   "execution_count": 49,
   "metadata": {
    "school_cell_uuid": "6131e648511543cc87a1f4e8094b1fcd"
   },
   "outputs": [
    {
     "name": "stdout",
     "output_type": "stream",
     "text": [
      "[7 0 6 8 5 1 9 4 3 2]\n"
     ]
    }
   ],
   "source": [
    "np.random.seed(2024)\n",
    "np.random.shuffle(x)\n",
    "print(x)"
   ]
  },
  {
   "cell_type": "code",
   "execution_count": null,
   "metadata": {
    "school_cell_uuid": "22967dfb13a9429683e1fd6aa9d6f403"
   },
   "outputs": [],
   "source": []
  },
  {
   "cell_type": "markdown",
   "metadata": {
    "school_cell_uuid": "18b8cf36ccf841ddbfd0dff59390a821"
   },
   "source": [
    "그러나 `unique` 함수는 데이터에 존재하는 값에 대해서만 갯수를 세므로 데이터 값이 나올 수 있음에도 불구하고 데이터가 하나도 없는 경우에는 정보를 주지 않는다. 예를 들어 주사위를 10번 던졌는데 6이 한 번도 나오지 않으면 이 값을 0으로 세어주지 않는다."
   ]
  },
  {
   "cell_type": "markdown",
   "metadata": {},
   "source": [
    "따라서 데이터가 주사위를 던졌을 때 나오는 수처럼 특정 범위안의 수인 경우에는 `bincount` 함수에 `minlength` 인수를 설정하여 쓰는 것이 더 편리하다.  `bincount` 함수는 0 부터 `minlength` - 1 까지의 숫자에 대해 각각 카운트를 한다. 데이터가 없을 경우에는 카운트 값이 0이 된다."
   ]
  },
  {
   "cell_type": "code",
   "execution_count": null,
   "metadata": {
    "school_cell_uuid": "a8b0e11beab742bfaa0d9a4a6ec97b8c"
   },
   "outputs": [],
   "source": []
  }
 ],
 "metadata": {
  "kernelspec": {
   "display_name": "Python 3",
   "language": "python",
   "name": "python3"
  },
  "language_info": {
   "codemirror_mode": {
    "name": "ipython",
    "version": 3
   },
   "file_extension": ".py",
   "mimetype": "text/x-python",
   "name": "python",
   "nbconvert_exporter": "python",
   "pygments_lexer": "ipython3",
   "version": "3.10.14"
  }
 },
 "nbformat": 4,
 "nbformat_minor": 4
}
