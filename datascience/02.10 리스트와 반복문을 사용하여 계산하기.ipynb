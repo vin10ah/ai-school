{
 "cells": [
  {
   "cell_type": "markdown",
   "metadata": {
    "school_cell_uuid": "b96d8e62308c420d85ca39effe4088cf"
   },
   "source": [
    "# 2.10 리스트와 반복문을 사용하여 계산하기"
   ]
  },
  {
   "cell_type": "markdown",
   "metadata": {
    "school_cell_uuid": "25910844c4d4466696267e92995c9336"
   },
   "source": [
    "반복문은 리스트 자료형 변수를 대상으로 여러 가지 계산을 할 때 많이 사용된다. 예를 들어 10번의 시험 성적을 담고 있는 a라는 변수가 있을 때 평균 성적은 다음과 같이 구할 수 있다. "
   ]
  },
  {
   "cell_type": "code",
   "execution_count": 1,
   "metadata": {
    "school_cell_uuid": "7391f1e926834311978d9405dce1267c"
   },
   "outputs": [
    {
     "name": "stdout",
     "output_type": "stream",
     "text": [
      "86.5\n"
     ]
    }
   ],
   "source": [
    "a = [90, 85, 95, 80, 90, 100, 85, 75, 85, 80]\n",
    "\n",
    "print(sum(a)/len(a))"
   ]
  },
  {
   "cell_type": "code",
   "execution_count": 4,
   "metadata": {
    "school_cell_uuid": "fdde4919778445738d09580e319c4419"
   },
   "outputs": [
    {
     "data": {
      "text/plain": [
       "10"
      ]
     },
     "execution_count": 4,
     "metadata": {},
     "output_type": "execute_result"
    }
   ],
   "source": []
  },
  {
   "cell_type": "code",
   "execution_count": 5,
   "metadata": {
    "school_cell_uuid": "5bdf40828a8b444088fad6f83f834948"
   },
   "outputs": [
    {
     "data": {
      "text/plain": [
       "86.5"
      ]
     },
     "execution_count": 5,
     "metadata": {},
     "output_type": "execute_result"
    }
   ],
   "source": []
  },
  {
   "cell_type": "markdown",
   "metadata": {
    "school_cell_uuid": "22a8cb4cd4e14f02a490d506e9d4689b"
   },
   "source": [
    "만약 학생이 두 명이고 이런 성적 변수가 두 개 있을 때를 생각하자. 두 학생의 시험 성적의 합은 다음과 같이 구할 수 있다."
   ]
  },
  {
   "cell_type": "code",
   "execution_count": 6,
   "metadata": {
    "school_cell_uuid": "cb78757b1cc245189c74f396a6f135bc"
   },
   "outputs": [
    {
     "data": {
      "text/plain": [
       "[185, 175, 185, 170, 185, 200, 175, 155, 180, 170]"
      ]
     },
     "execution_count": 6,
     "metadata": {},
     "output_type": "execute_result"
    }
   ],
   "source": []
  },
  {
   "cell_type": "markdown",
   "metadata": {
    "school_cell_uuid": "e35450a801a3484fa5ce9791bbaf0130"
   },
   "source": [
    "## 리스트의 원소를 직접 반복문에서 사용하기"
   ]
  },
  {
   "cell_type": "markdown",
   "metadata": {
    "school_cell_uuid": "1da469f68d374f899bcaf8731b2fe915"
   },
   "source": [
    "지금까지는 `for` 반복문을 사용할 때 `range` 명령으로 리스트에 적용할 인덱스 정수를 만들어서 리스트의 원소 값을 찾았다. 하지만 `for` 반복문에서 리스트의 원소를 직접 뽑아 카운터 변수에 넣을 수도 있다. \n",
    "\n",
    "지금까지 반복문에서 사용해 온 `range` 명령은 사실 리스트를 만드는 명령이다."
   ]
  },
  {
   "cell_type": "code",
   "execution_count": 7,
   "metadata": {
    "school_cell_uuid": "333351d8092b46dbb23d4748fb847f9c"
   },
   "outputs": [
    {
     "data": {
      "text/plain": [
       "[0, 1, 2, 3, 4]"
      ]
     },
     "execution_count": 7,
     "metadata": {},
     "output_type": "execute_result"
    }
   ],
   "source": []
  },
  {
   "cell_type": "markdown",
   "metadata": {
    "school_cell_uuid": "d8e63bdbbf7d4460aed1b52bfb253475"
   },
   "source": [
    "따라서 다음 코드는"
   ]
  },
  {
   "cell_type": "code",
   "execution_count": 8,
   "metadata": {
    "school_cell_uuid": "7560295b84f54927a8cf6b61d68240b3"
   },
   "outputs": [
    {
     "name": "stdout",
     "output_type": "stream",
     "text": [
      "0\n",
      "1\n",
      "2\n",
      "3\n",
      "4\n"
     ]
    }
   ],
   "source": []
  },
  {
   "cell_type": "markdown",
   "metadata": {
    "school_cell_uuid": "a1ddf500ca804ebcb7d48ba3c6828fa2"
   },
   "source": [
    "다음 코드와 같다."
   ]
  },
  {
   "cell_type": "code",
   "execution_count": 9,
   "metadata": {
    "school_cell_uuid": "98addc5ac4c6426ea05224a56dd2dce1"
   },
   "outputs": [
    {
     "name": "stdout",
     "output_type": "stream",
     "text": [
      "0\n",
      "1\n",
      "2\n",
      "3\n",
      "4\n"
     ]
    }
   ],
   "source": []
  },
  {
   "cell_type": "markdown",
   "metadata": {
    "school_cell_uuid": "19f9040e5f0d4a6d9db7a52dca855967"
   },
   "source": [
    "따라서 가장 위에서 보인 한 학생의 평균 계산 코드는 다음 코드와 동일하다."
   ]
  },
  {
   "cell_type": "code",
   "execution_count": 10,
   "metadata": {
    "school_cell_uuid": "2b80931722394b93bc75c33683fe91e1"
   },
   "outputs": [
    {
     "data": {
      "text/plain": [
       "86.5"
      ]
     },
     "execution_count": 10,
     "metadata": {},
     "output_type": "execute_result"
    }
   ],
   "source": []
  },
  {
   "cell_type": "markdown",
   "metadata": {
    "school_cell_uuid": "819c9366dbbb4da5881238202770abb9"
   },
   "source": [
    "## `enumerate` 함수"
   ]
  },
  {
   "cell_type": "markdown",
   "metadata": {
    "school_cell_uuid": "235295021ebd4e2f853b8e4b6c6465fa"
   },
   "source": [
    "때로는 반복문에 정수 인덱스가 필요할 때도 있다. 예를 들어 반복문에서 `append` 메서드를 쓰면 계산 속도가 저하된다. 이때는 미리 저장 공간을 만들어 놓고 해당 위치에 계산 결과를 갱신해야 한다. 이때는 `enumerate` 명령을 쓸 수 있다. `enumerate` 명령은 리스트의 원소를 반복하면서 동시에 인덱스 값도 생성한다.\n"
   ]
  },
  {
   "cell_type": "code",
   "execution_count": 11,
   "metadata": {
    "school_cell_uuid": "45a9eaa0f0494de8903410dd19fdc6c5"
   },
   "outputs": [
    {
     "name": "stdout",
     "output_type": "stream",
     "text": [
      "i = 0, e = a\n",
      "i = 1, e = b\n",
      "i = 2, e = c\n"
     ]
    }
   ],
   "source": []
  },
  {
   "cell_type": "code",
   "execution_count": 12,
   "metadata": {
    "school_cell_uuid": "0cf4dd2c08624bd4a753b80557c5a044"
   },
   "outputs": [
    {
     "data": {
      "text/plain": [
       "[185, 175, 185, 170, 185, 200, 175, 155, 180, 170]"
      ]
     },
     "execution_count": 12,
     "metadata": {},
     "output_type": "execute_result"
    }
   ],
   "source": []
  },
  {
   "cell_type": "markdown",
   "metadata": {
    "school_cell_uuid": "f77580d87de6401aaab9ab00bb9c5f12"
   },
   "source": [
    "## 리스트의 리스트"
   ]
  },
  {
   "cell_type": "markdown",
   "metadata": {
    "school_cell_uuid": "012e79f4fba64c4db3ca1d085ca91356"
   },
   "source": [
    "학생이 5명이고 각 학생이 10번의 시험에 대한 성적을 가진다면 다음과 같이 리스트의 리스트로 전체 시험 성적을 나타낼 수 있다."
   ]
  },
  {
   "cell_type": "code",
   "execution_count": 13,
   "metadata": {
    "school_cell_uuid": "510b43d9068a4d16bb573310e861c734"
   },
   "outputs": [],
   "source": []
  },
  {
   "cell_type": "markdown",
   "metadata": {
    "school_cell_uuid": "c4731bb9e2c6494a84f78e8c94e78ceb"
   },
   "source": [
    "이 때 전체 평균 점수는 다음과 같이 구한다."
   ]
  },
  {
   "cell_type": "code",
   "execution_count": null,
   "metadata": {},
   "outputs": [],
   "source": [
    "#연습문제 1\n",
    "X = [[85,  90,  20,  50,  60,  25,  30,  75,  40,  55],\n",
    "     [70, 100,  70,  70,  55,  75,  55,  60,  40,  45],\n",
    "     [25,  65,  15,  25,  20,   5,  60,  70,  35,  10],\n",
    "     [80,  45,  80,  40,  75,  35,  80,  55,  70,  90],\n",
    "     [35,  50,  75,  25,  35,  70,  65,  50,  70,  10]]"
   ]
  },
  {
   "cell_type": "code",
   "execution_count": null,
   "metadata": {},
   "outputs": [
    {
     "name": "stdout",
     "output_type": "stream",
     "text": [
      "[59.0, 70.0, 52.0, 42.0, 49.0, 42.0, 58.0, 62.0, 51.0, 42.0]\n"
     ]
    }
   ],
   "source": [
    "# 1. 과목별 평균\n",
    "\n",
    "c_score = list(zip(X[0], X[1], X[2], X[3], X[4]))\n",
    "c_avg = []\n",
    "for s in c_score:\n",
    "\tc_avg.append(sum(s)/len(s))\n",
    "\n",
    "print(c_avg)\n"
   ]
  },
  {
   "cell_type": "code",
   "execution_count": null,
   "metadata": {},
   "outputs": [
    {
     "name": "stdout",
     "output_type": "stream",
     "text": [
      "[53.0, 64.0, 33.0, 65.0, 48.5]\n"
     ]
    }
   ],
   "source": [
    "# 2. 학생별 평균\n",
    "\n",
    "s_avg = []\n",
    "\n",
    "for i in range(len(X)):\n",
    "\ts_avg.append(sum(X[i])/len(X[i]))\n",
    "\n",
    "print(s_avg)"
   ]
  },
  {
   "cell_type": "code",
   "execution_count": 14,
   "metadata": {
    "school_cell_uuid": "e0c17b196c244e6f80b0ed1ff57ac1e8"
   },
   "outputs": [
    {
     "data": {
      "text/plain": [
       "52.7"
      ]
     },
     "execution_count": 14,
     "metadata": {},
     "output_type": "execute_result"
    }
   ],
   "source": []
  },
  {
   "cell_type": "markdown",
   "metadata": {
    "bootstrap": {
     "panel": {
      "class": "panel-default"
     }
    },
    "school_cell_uuid": "5e598a7ac70543218808b8118cb8c2f4"
   },
   "source": [
    "### 연습 문제 2.10.1\n",
    "\n",
    "\n",
    "어떤 학생이 5개의 과목을 수강하여 다음과 같은 성적(grade)을 받았다. (4점이 만점)\n",
    "\n",
    "$$ X = 4, 3, 2, 3, 4 $$\n",
    "\n",
    "이 5개 과목의 이수 학점(credit hours)은 각각 다음과 같다.\n",
    "\n",
    "$$ W = 3, 3, 1, 2, 2 $$\n",
    "\n",
    "이 때 평균 평점(GPA)은 성적의 단순 평균이 아니라 이수 학점을 가중치(weight)로 써서 다음과 같이 가중 평균을 구해야 한다.\n",
    "\n",
    "$$ \\dfrac{\\text{성적과 이수 학점을 곱한 값의 총합 즉, 가중합}}{\\text{이수 학점의 총합}} =  \n",
    "\\dfrac{3 \\times 4 + 3 \\times 3 + 1 \\times 2 + 2 \\times 3 + 2 \\times 4}{3 + 3 + 1 + 2 + 2}$$\n",
    "\n",
    "$i$번째 과목의 성적을 $X_i$라고 하고 $i$번째 과목의 이수 학점을 $W_i$라고 하면 가중 평균은 다음과 같은 수식으로 나타낼 수도 있다.\n",
    "\n",
    "$$ \\dfrac{W_1 X_1 + W_2 X_2 + W_3 X_3 + W_4 X_4 + W_5 X_5}{W_1 + W_2 + W_3 + W_4 + W_5} $$\n",
    "\n",
    "이 학생의 평균 평점을 구하는 코드를 작성한다.\n"
   ]
  },
  {
   "cell_type": "code",
   "execution_count": 30,
   "metadata": {},
   "outputs": [
    {
     "name": "stdout",
     "output_type": "stream",
     "text": [
      "3.3636363636363638\n"
     ]
    }
   ],
   "source": [
    "xlist = [4, 3, 2, 3, 4]\n",
    "wlist = [3, 3, 1, 2, 2]\n",
    "\n",
    "wx = []\n",
    "for i in list(zip(xlist, wlist)):\n",
    "\tx, w = i\n",
    "\twx.append(x*w)\n",
    "\n",
    "w_avg = sum(wx)/sum(wlist)\n",
    "print(w_avg)"
   ]
  },
  {
   "cell_type": "markdown",
   "metadata": {
    "bootstrap": {
     "panel": {
      "class": "panel-default"
     }
    },
    "school_cell_uuid": "51a4883dcc2a419190d5e0b0bd570b64"
   },
   "source": [
    "### 연습 문제 2.10.2\n",
    "\n",
    "\n",
    "\n",
    "자료의 분산(Variance)는 각 자료 값에서 자료의 평균값을 뺀 나머지를 제곱한 값의 평균을 말한다. 예를 들어 자료가 다음과 같다고 하자\n",
    "\n",
    "$$ X = 6, 5, 4, 7, 3, 5 $$\n",
    "\n",
    "이 자료의 평균은 다음과 같다.\n",
    "\n",
    "$$ \\dfrac{(6 + 5 + 4 + 7 + 3 + 5)}{6} = 5$$\n",
    "\n",
    "각 자료 값에서 자료의 평균값을 뺀 나머지를 제곱한 값을 모두 더한 값의 평균은 다음과 같이 구한다.\n",
    "\n",
    "$$ \\dfrac{(6 - 5)^2 + (5 - 5)^2 + (4 - 5)^2 + (7 - 5)^2 + (3 - 5)^2 + (5 - 5)^2}{6} $$\n",
    "\n",
    "이 자료의 분산을 구하는 코드를 작성한다.\n"
   ]
  },
  {
   "cell_type": "code",
   "execution_count": 42,
   "metadata": {},
   "outputs": [
    {
     "name": "stdout",
     "output_type": "stream",
     "text": [
      "5.0\n",
      "[1.0, 0.0, 1.0, 4.0, 4.0, 0.0]\n"
     ]
    },
    {
     "data": {
      "text/plain": [
       "1.6666666666666667"
      ]
     },
     "execution_count": 42,
     "metadata": {},
     "output_type": "execute_result"
    }
   ],
   "source": [
    "x = [6, 5, 4, 7, 3, 5]\n",
    "v = []\n",
    "avg = sum(x)/len(x)\n",
    "\n",
    "for n in x:\n",
    "\tv.append((n-avg)**2)\n",
    "\n",
    "var = sum(v) / len(v)\n",
    "var"
   ]
  },
  {
   "cell_type": "markdown",
   "metadata": {
    "school_cell_uuid": "171863a1334c404f873bcf23348ed6ab"
   },
   "source": [
    "## zip 함수"
   ]
  },
  {
   "cell_type": "markdown",
   "metadata": {
    "school_cell_uuid": "62127f3ac8874973b7fa700202627986"
   },
   "source": [
    "`zip` 함수는 두 개의 리스트를 합쳐서 각 리스트 원소의 쌍을 원소로 가지는 하나의 리스트를 만든다. 파이썬 3에서는 명시적으로 `list` 명령을 사용해야 리스트가 된다."
   ]
  },
  {
   "cell_type": "code",
   "execution_count": 11,
   "metadata": {
    "school_cell_uuid": "e1b78b81bca644b9ac531d6fa46d1fbf"
   },
   "outputs": [
    {
     "data": {
      "text/plain": [
       "[(90, 95),\n",
       " (85, 90),\n",
       " (95, 90),\n",
       " (80, 90),\n",
       " (90, 95),\n",
       " (100, 100),\n",
       " (85, 90),\n",
       " (75, 80),\n",
       " (85, 95),\n",
       " (80, 90)]"
      ]
     },
     "execution_count": 11,
     "metadata": {},
     "output_type": "execute_result"
    }
   ],
   "source": []
  },
  {
   "cell_type": "markdown",
   "metadata": {
    "school_cell_uuid": "bf43a03ea9f54cada3a145be3be45ea6"
   },
   "source": [
    "이 때 소괄호로 표시된 묶음은 튜플(tuple)이라고 하며 리스트와 사용법이 거의 동일하다. 따라서 모든 학생의 두 과목 성적 합산을 구하는 코드는 다음과 같이 고칠 수 있다."
   ]
  },
  {
   "cell_type": "code",
   "execution_count": 10,
   "metadata": {
    "school_cell_uuid": "3a8264ff63b74ecd8f250eaacb65a393"
   },
   "outputs": [
    {
     "data": {
      "text/plain": [
       "[185, 175, 185, 170, 185, 200, 175, 155, 180, 170]"
      ]
     },
     "execution_count": 10,
     "metadata": {},
     "output_type": "execute_result"
    }
   ],
   "source": []
  },
  {
   "cell_type": "markdown",
   "metadata": {},
   "source": [
    "`zip` 함수를 사용할 때 리스트의 리스트 인수를 하나만 넣고 인수의 앞에 `*` 기호를 붙이면 리스트 쌍을 바꾼다."
   ]
  },
  {
   "cell_type": "code",
   "execution_count": 14,
   "metadata": {},
   "outputs": [
    {
     "data": {
      "text/plain": [
       "[(90, 95),\n",
       " (85, 90),\n",
       " (95, 90),\n",
       " (80, 90),\n",
       " (90, 95),\n",
       " (100, 100),\n",
       " (85, 90),\n",
       " (75, 80),\n",
       " (85, 95),\n",
       " (80, 90)]"
      ]
     },
     "execution_count": 14,
     "metadata": {},
     "output_type": "execute_result"
    }
   ],
   "source": []
  },
  {
   "cell_type": "code",
   "execution_count": 16,
   "metadata": {},
   "outputs": [
    {
     "data": {
      "text/plain": [
       "[(90, 85, 95, 80, 90, 100, 85, 75, 85, 80),\n",
       " (95, 90, 90, 90, 95, 100, 90, 80, 95, 90)]"
      ]
     },
     "execution_count": 16,
     "metadata": {},
     "output_type": "execute_result"
    }
   ],
   "source": []
  },
  {
   "cell_type": "code",
   "execution_count": 17,
   "metadata": {},
   "outputs": [
    {
     "data": {
      "text/plain": [
       "[(90, 95),\n",
       " (85, 90),\n",
       " (95, 90),\n",
       " (80, 90),\n",
       " (90, 95),\n",
       " (100, 100),\n",
       " (85, 90),\n",
       " (75, 80),\n",
       " (85, 95),\n",
       " (80, 90)]"
      ]
     },
     "execution_count": 17,
     "metadata": {},
     "output_type": "execute_result"
    }
   ],
   "source": []
  },
  {
   "cell_type": "markdown",
   "metadata": {},
   "source": [
    "### 연습 문제 2.10.3\n",
    "\n",
    "```\n",
    "\n",
    "다음은 학생 이름과 점수가 들어간 리스트의 리스트 변수다.\n",
    "\n",
    "```\n",
    "x = [\n",
    "  [\"길동\", 90],\n",
    "  [\"철수\", 80],\n",
    "  [\"영수\", 70],\n",
    "  [\"방자\", 60],\n",
    "]\n",
    "```\n",
    "\n",
    "복수 할당과 `zip` 명령을 사용하여 이 변수에서 학생 이름만 있는 변수를 만들어라.\n",
    "````"
   ]
  },
  {
   "cell_type": "code",
   "execution_count": 4,
   "metadata": {},
   "outputs": [
    {
     "name": "stdout",
     "output_type": "stream",
     "text": [
      "[['길동', 90], ['철수', 80], ['영수', 70], ['방자', 60]]\n"
     ]
    }
   ],
   "source": []
  },
  {
   "cell_type": "code",
   "execution_count": null,
   "metadata": {},
   "outputs": [],
   "source": []
  }
 ],
 "metadata": {
  "celltoolbar": "Edit Metadata",
  "kernelspec": {
   "display_name": "Python 3",
   "language": "python",
   "name": "python3"
  },
  "language_info": {
   "codemirror_mode": {
    "name": "ipython",
    "version": 3
   },
   "file_extension": ".py",
   "mimetype": "text/x-python",
   "name": "python",
   "nbconvert_exporter": "python",
   "pygments_lexer": "ipython3",
   "version": "3.1.-1"
  }
 },
 "nbformat": 4,
 "nbformat_minor": 4
}
