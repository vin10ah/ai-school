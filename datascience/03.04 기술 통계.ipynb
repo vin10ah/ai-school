{
 "cells": [
  {
   "cell_type": "markdown",
   "metadata": {
    "school_cell_uuid": "f1e120d9f1574e31aa1b43d5d7530b1e"
   },
   "source": [
    "# 3.4 기술 통계"
   ]
  },
  {
   "cell_type": "markdown",
   "metadata": {
    "school_cell_uuid": "e0cf86dc37194b9caee4bb8b1d0c2478"
   },
   "source": [
    "넘파이는 다음과 같은 데이터 집합에 대해 간단한 통계를 계산하는 함수를 제공한다. 이러한 값들을 통틀어 기술 통계(descriptive statistics)라고 한다.\n",
    "\n",
    "* 데이터의 개수(count)\n",
    "* 평균(mean, average)\n",
    "* 분산(variance)\n",
    "* 표준 편차(standard deviation)\n",
    "* 최댓값(maximum)\n",
    "* 최솟값(minimum)\n",
    "* 중앙값(median)\n",
    "* 사분위수(quartile)"
   ]
  },
  {
   "cell_type": "markdown",
   "metadata": {
    "school_cell_uuid": "5007a8ec08214ee9b2e5d84dc6628678"
   },
   "source": [
    "예를 들어 다음과 같은 데이터 $x$가 있다고 하자.\n",
    "\n",
    "$$\n",
    "x = \\{\n",
    "18,   5,  10,  23,  19,  -8,  10,   0,   0,   5,   2,  15,   8,\n",
    "2,   5,   4,  15,  -1,   4,  -7, -24,   7,   9,  -6,  23, -13\n",
    "\\}\n",
    "$$\n",
    "             \n",
    "\n",
    "$x$를 이루는 숫자 하나하나를 수학 기호로는 $x_1, x_2, \\cdots, x_N$처럼 표시한다. 위 예에서 $x_1 = 18$, $x_2 = 5$이다.\n",
    "\n",
    "넘파이에서는 이러한 데이터를 1차원 배열로 구현한다."
   ]
  },
  {
   "cell_type": "code",
   "execution_count": 2,
   "metadata": {},
   "outputs": [],
   "source": [
    "import numpy as np"
   ]
  },
  {
   "cell_type": "code",
   "execution_count": 3,
   "metadata": {
    "school_cell_uuid": "46bb43f2d2924332ab0f3f09c460c32f"
   },
   "outputs": [],
   "source": [
    "x = np.random.randint(-10, 20, size=(20))"
   ]
  },
  {
   "cell_type": "code",
   "execution_count": 5,
   "metadata": {},
   "outputs": [
    {
     "data": {
      "text/plain": [
       "array([  8,   3,   4,  -9,   9,   7,   3,   8,  17,  -9,  19,   0,   6,\n",
       "        17,  -7, -10,  17,  10,   9,  17])"
      ]
     },
     "execution_count": 5,
     "metadata": {},
     "output_type": "execute_result"
    }
   ],
   "source": [
    "x"
   ]
  },
  {
   "cell_type": "markdown",
   "metadata": {
    "school_cell_uuid": "584cc6f1767f42049e5c45354c6349c4"
   },
   "source": [
    "### 데이터의 개수"
   ]
  },
  {
   "cell_type": "markdown",
   "metadata": {
    "school_cell_uuid": "3afcea2fe96f4df4a325ae8cf0962dff"
   },
   "source": [
    "데이터의 개수는 `len` 명령으로 구할 수 있다."
   ]
  },
  {
   "cell_type": "code",
   "execution_count": null,
   "metadata": {
    "school_cell_uuid": "6e12faa9857c455aa84f2cea6b58a036"
   },
   "outputs": [],
   "source": []
  },
  {
   "cell_type": "markdown",
   "metadata": {
    "school_cell_uuid": "bafea7976594466d8a34b0623bf48a88"
   },
   "source": [
    "### 표본 평균"
   ]
  },
  {
   "cell_type": "markdown",
   "metadata": {
    "school_cell_uuid": "2e4d88614dc24a7a8262f665077ae369"
   },
   "source": [
    "평균을 통계용어로는 표본 평균(sample average, sample mean)이라고 한다. $x$ 데이터에 대한 표본 평균은 $\\bar{x}$라고 표시하며 다음과 같이 계산한다. 이 식에서 $N$은 데이터의 개수이다.\n",
    "\n",
    "$$ \\bar{x} = \\dfrac{1}{N}\\sum_{i=1}^N x_i $$"
   ]
  },
  {
   "cell_type": "code",
   "execution_count": null,
   "metadata": {
    "school_cell_uuid": "b34bb1912f7c476f82c3e0fd3d6ae5b0"
   },
   "outputs": [],
   "source": [
    "np.mean()"
   ]
  },
  {
   "cell_type": "markdown",
   "metadata": {
    "school_cell_uuid": "4db8c547c72c40d18053e301146628a4"
   },
   "source": [
    "### 표본 분산"
   ]
  },
  {
   "cell_type": "markdown",
   "metadata": {
    "school_cell_uuid": "2e4d88614dc24a7a8262f665077ae369"
   },
   "source": [
    "표본 분산(sample variance)은 데이터와 표본 평균간의 거리의 제곱의 평균이다. 표본 분산이 작으면 데이터가 모여있는 것이고 크면 흩어져 있는 것이다. 수학 기호로는 $s^2$이라고 표시하며 다음과 같이 계산한다.\n",
    "\n",
    "$$ s^2 = \\dfrac{1}{N}\\sum_{i=1}^N (x_i - \\bar{x})^2 $$"
   ]
  },
  {
   "cell_type": "code",
   "execution_count": null,
   "metadata": {
    "school_cell_uuid": "1ffac705a908414da102ec73b6f8350d"
   },
   "outputs": [],
   "source": [
    "np.var()"
   ]
  },
  {
   "cell_type": "code",
   "execution_count": null,
   "metadata": {
    "school_cell_uuid": "1ffac705a908414da102ec73b6f8350d"
   },
   "outputs": [],
   "source": []
  },
  {
   "cell_type": "markdown",
   "metadata": {
    "school_cell_uuid": "4bbc3f5d73024b729375127f82265a17"
   },
   "source": [
    "### 표본 표준편차"
   ]
  },
  {
   "cell_type": "markdown",
   "metadata": {
    "school_cell_uuid": "2e4d88614dc24a7a8262f665077ae369"
   },
   "source": [
    "표본 표준편차(sample standard variance)는 표본 분산의 양의 제곱근 값이다. $s$이라고 표시한다.\n",
    "\n",
    "$$ s = \\sqrt{s^2} $$"
   ]
  },
  {
   "cell_type": "code",
   "execution_count": null,
   "metadata": {
    "school_cell_uuid": "34435c8883fc4edabe7355a6b57b9643"
   },
   "outputs": [],
   "source": [
    "np.std()"
   ]
  },
  {
   "cell_type": "markdown",
   "metadata": {
    "school_cell_uuid": "05547e99bba14b17987949e87e01810f"
   },
   "source": [
    "### 최댓값과 최솟값"
   ]
  },
  {
   "cell_type": "markdown",
   "metadata": {
    "school_cell_uuid": "2e4d88614dc24a7a8262f665077ae369"
   },
   "source": [
    "최댓값(maximum)은 데이터 중에서 가장 큰 값을, 최솟값(minimum)은 가장 작은 값을 의미한다."
   ]
  },
  {
   "cell_type": "code",
   "execution_count": null,
   "metadata": {
    "school_cell_uuid": "04c24da8c29441bb9815be7eec10f647"
   },
   "outputs": [],
   "source": []
  },
  {
   "cell_type": "code",
   "execution_count": null,
   "metadata": {
    "school_cell_uuid": "c92a5db3daca4040a149ab4d286b1ff5"
   },
   "outputs": [],
   "source": []
  },
  {
   "cell_type": "markdown",
   "metadata": {
    "school_cell_uuid": "7f70258fd789484a9579bd76794b16a9"
   },
   "source": [
    "### 중앙값"
   ]
  },
  {
   "cell_type": "markdown",
   "metadata": {
    "school_cell_uuid": "2e4d88614dc24a7a8262f665077ae369"
   },
   "source": [
    "중앙값(median)은 데이터를 크기대로 정렬하였을 때 가장 가운데에 있는 수를 말한다. 만약 데이터의 수가 짝수이면 가장 가운데에 있는 두 수의 평균을 사용한다."
   ]
  },
  {
   "cell_type": "code",
   "execution_count": null,
   "metadata": {
    "school_cell_uuid": "e1fa96e6ed7442bc9583e47fd911f3e4"
   },
   "outputs": [],
   "source": [
    "np.median()"
   ]
  },
  {
   "cell_type": "markdown",
   "metadata": {
    "school_cell_uuid": "58a28972d7384333b0319b43f1735892"
   },
   "source": [
    "### 사분위수"
   ]
  },
  {
   "cell_type": "markdown",
   "metadata": {
    "school_cell_uuid": "ce4db8b11cb54285b112ccc8bd6124d8"
   },
   "source": [
    "사분위수(quartile)는 데이터를 가장 작은 수부터 가장 큰 수까지 크기가 커지는 순서대로 정렬하였을 때 1/4, 2/4, 3/4 위치에 있는 수를 말한다. 각각 1사분위수, 2사분위수, 3사분위수라고 한다. 1/4의 위치란 전체 데이터의 수가 만약 100개이면 25번째 순서, 즉 하위 25%를 말한다. 따라서 2사분위수는 중앙값과 같다. \n",
    "\n",
    "때로는 위치를 1/100 단위로 나눈 백분위수(percentile)을 사용하기도 한다. 1사분위수는 25% 백분위수와 같다."
   ]
  },
  {
   "cell_type": "code",
   "execution_count": 4,
   "metadata": {
    "school_cell_uuid": "64bb2071eff44538b8ec961b89ae7e18"
   },
   "outputs": [
    {
     "data": {
      "text/plain": [
       "-10.0"
      ]
     },
     "execution_count": 4,
     "metadata": {},
     "output_type": "execute_result"
    }
   ],
   "source": [
    "np.percentile(x, 0) # x.min"
   ]
  },
  {
   "cell_type": "code",
   "execution_count": 7,
   "metadata": {
    "school_cell_uuid": "64bb2071eff44538b8ec961b89ae7e18"
   },
   "outputs": [
    {
     "data": {
      "text/plain": [
       "19.0"
      ]
     },
     "execution_count": 7,
     "metadata": {},
     "output_type": "execute_result"
    }
   ],
   "source": [
    "np.percentile(x, 100) # x.max"
   ]
  },
  {
   "cell_type": "code",
   "execution_count": null,
   "metadata": {},
   "outputs": [],
   "source": [
    "np.percentile(x, 50) # x.median Q2"
   ]
  },
  {
   "cell_type": "code",
   "execution_count": null,
   "metadata": {
    "school_cell_uuid": "cda69de008b44a9e9fdbd366173c1a7c"
   },
   "outputs": [],
   "source": [
    "np.percentile(x, 25) # 하위 25%, Q1"
   ]
  },
  {
   "cell_type": "code",
   "execution_count": null,
   "metadata": {
    "school_cell_uuid": "3a6242f292674da499c6056b35ae0256"
   },
   "outputs": [],
   "source": [
    "np.percentile(x, 75) # 상위 25%, Q3"
   ]
  },
  {
   "cell_type": "code",
   "execution_count": null,
   "metadata": {
    "school_cell_uuid": "3a6242f292674da499c6056b35ae0256"
   },
   "outputs": [],
   "source": []
  }
 ],
 "metadata": {
  "kernelspec": {
   "display_name": "Python 3",
   "language": "python",
   "name": "python3"
  },
  "language_info": {
   "codemirror_mode": {
    "name": "ipython",
    "version": 3
   },
   "file_extension": ".py",
   "mimetype": "text/x-python",
   "name": "python",
   "nbconvert_exporter": "python",
   "pygments_lexer": "ipython3",
   "version": "3.10.14"
  },
  "latex_envs": {
   "LaTeX_envs_menu_present": true,
   "autoclose": false,
   "autocomplete": true,
   "bibliofile": "biblio.bib",
   "cite_by": "apalike",
   "current_citInitial": 1,
   "eqLabelWithNumbers": true,
   "eqNumInitial": 1,
   "hotkeys": {
    "equation": "Ctrl-E",
    "itemize": "Ctrl-I"
   },
   "labels_anchors": false,
   "latex_user_defs": false,
   "report_style_numbering": false,
   "user_envs_cfg": false
  }
 },
 "nbformat": 4,
 "nbformat_minor": 4
}
