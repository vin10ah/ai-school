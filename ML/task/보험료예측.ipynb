{
 "cells": [
  {
   "cell_type": "markdown",
   "metadata": {},
   "source": [
    "## 보험료 예측 실습"
   ]
  },
  {
   "cell_type": "markdown",
   "metadata": {},
   "source": [
    "**[EDA 체크리스트]**\n",
    "\n",
    "1. 어떤 질문을 풀거나 틀렸다고 증명하려고 하는가?\n",
    "    - 보험사 고객 정보를 통해 보험료 예측 모델을 생성하려고 한다.\n",
    "2. 중복된 항목은 있는가?\n",
    "3. 어떤 종류의 데이터가 있으며 다른 데이터 타입들을 어떻게 다루려고 하는가?\n",
    "4. 데이터에서 누락된 것이 있는지, 있다면 그것들을 어떻게 처리하려는가?\n",
    "5. 이상치는 어디에 있는가? 관심을 가져야 할 데이터인가?\n",
    "\t- 각 변수들의 분포, 치우침 정도(왜도)를 확인하고 log처리할 것인지 선택하여라\n",
    "6. 변수 간 상관성이 있는가?\n",
    "\n",
    "**[모델링 체크리스트]**\n",
    "\n",
    "1. 어떠한 지도학습이 적합한가? (분류 vs 회귀)\n",
    "2. 선택한 지도학습 모델 중에서 3가지 이상을 골라서 성능을 비교해보자. \n",
    "3. 성능을 확인하고 어떠한 모델을 사용했을 때 예측이 잘되었는지 평가지표와 함께 기록해보자."
   ]
  },
  {
   "cell_type": "code",
   "execution_count": 1,
   "metadata": {},
   "outputs": [],
   "source": [
    "import numpy as np\n",
    "import pandas as pd\n",
    "import matplotlib.pyplot as plt\n",
    "import seaborn as sns"
   ]
  },
  {
   "cell_type": "code",
   "execution_count": 2,
   "metadata": {},
   "outputs": [
    {
     "data": {
      "text/html": [
       "<div>\n",
       "<style scoped>\n",
       "    .dataframe tbody tr th:only-of-type {\n",
       "        vertical-align: middle;\n",
       "    }\n",
       "\n",
       "    .dataframe tbody tr th {\n",
       "        vertical-align: top;\n",
       "    }\n",
       "\n",
       "    .dataframe thead th {\n",
       "        text-align: right;\n",
       "    }\n",
       "</style>\n",
       "<table border=\"1\" class=\"dataframe\">\n",
       "  <thead>\n",
       "    <tr style=\"text-align: right;\">\n",
       "      <th></th>\n",
       "      <th>age</th>\n",
       "      <th>sex</th>\n",
       "      <th>bmi</th>\n",
       "      <th>children</th>\n",
       "      <th>smoker</th>\n",
       "      <th>region</th>\n",
       "      <th>charges</th>\n",
       "    </tr>\n",
       "  </thead>\n",
       "  <tbody>\n",
       "    <tr>\n",
       "      <th>0</th>\n",
       "      <td>19</td>\n",
       "      <td>female</td>\n",
       "      <td>27.900</td>\n",
       "      <td>0</td>\n",
       "      <td>yes</td>\n",
       "      <td>southwest</td>\n",
       "      <td>16884.92400</td>\n",
       "    </tr>\n",
       "    <tr>\n",
       "      <th>1</th>\n",
       "      <td>18</td>\n",
       "      <td>male</td>\n",
       "      <td>33.770</td>\n",
       "      <td>1</td>\n",
       "      <td>no</td>\n",
       "      <td>southeast</td>\n",
       "      <td>1725.55230</td>\n",
       "    </tr>\n",
       "    <tr>\n",
       "      <th>2</th>\n",
       "      <td>28</td>\n",
       "      <td>male</td>\n",
       "      <td>33.000</td>\n",
       "      <td>3</td>\n",
       "      <td>no</td>\n",
       "      <td>southeast</td>\n",
       "      <td>4449.46200</td>\n",
       "    </tr>\n",
       "    <tr>\n",
       "      <th>3</th>\n",
       "      <td>33</td>\n",
       "      <td>male</td>\n",
       "      <td>22.705</td>\n",
       "      <td>0</td>\n",
       "      <td>no</td>\n",
       "      <td>northwest</td>\n",
       "      <td>21984.47061</td>\n",
       "    </tr>\n",
       "    <tr>\n",
       "      <th>4</th>\n",
       "      <td>32</td>\n",
       "      <td>male</td>\n",
       "      <td>28.880</td>\n",
       "      <td>0</td>\n",
       "      <td>no</td>\n",
       "      <td>northwest</td>\n",
       "      <td>3866.85520</td>\n",
       "    </tr>\n",
       "  </tbody>\n",
       "</table>\n",
       "</div>"
      ],
      "text/plain": [
       "   age     sex     bmi  children smoker     region      charges\n",
       "0   19  female  27.900         0    yes  southwest  16884.92400\n",
       "1   18    male  33.770         1     no  southeast   1725.55230\n",
       "2   28    male  33.000         3     no  southeast   4449.46200\n",
       "3   33    male  22.705         0     no  northwest  21984.47061\n",
       "4   32    male  28.880         0     no  northwest   3866.85520"
      ]
     },
     "execution_count": 2,
     "metadata": {},
     "output_type": "execute_result"
    }
   ],
   "source": [
    "df = pd.read_csv('./premium.csv')\n",
    "df.head()"
   ]
  },
  {
   "cell_type": "code",
   "execution_count": 3,
   "metadata": {},
   "outputs": [
    {
     "name": "stdout",
     "output_type": "stream",
     "text": [
      "<class 'pandas.core.frame.DataFrame'>\n",
      "RangeIndex: 1338 entries, 0 to 1337\n",
      "Data columns (total 7 columns):\n",
      " #   Column    Non-Null Count  Dtype  \n",
      "---  ------    --------------  -----  \n",
      " 0   age       1338 non-null   int64  \n",
      " 1   sex       1338 non-null   object \n",
      " 2   bmi       1333 non-null   float64\n",
      " 3   children  1338 non-null   int64  \n",
      " 4   smoker    1338 non-null   object \n",
      " 5   region    1338 non-null   object \n",
      " 6   charges   1338 non-null   float64\n",
      "dtypes: float64(2), int64(2), object(3)\n",
      "memory usage: 73.3+ KB\n"
     ]
    }
   ],
   "source": [
    "df.info()"
   ]
  },
  {
   "cell_type": "code",
   "execution_count": 4,
   "metadata": {},
   "outputs": [
    {
     "data": {
      "text/plain": [
       "region\n",
       "southeast    364\n",
       "southwest    325\n",
       "northwest    325\n",
       "northeast    324\n",
       "Name: count, dtype: int64"
      ]
     },
     "execution_count": 4,
     "metadata": {},
     "output_type": "execute_result"
    }
   ],
   "source": [
    "df['region'].value_counts()"
   ]
  },
  {
   "cell_type": "code",
   "execution_count": 5,
   "metadata": {},
   "outputs": [
    {
     "data": {
      "text/html": [
       "<div>\n",
       "<style scoped>\n",
       "    .dataframe tbody tr th:only-of-type {\n",
       "        vertical-align: middle;\n",
       "    }\n",
       "\n",
       "    .dataframe tbody tr th {\n",
       "        vertical-align: top;\n",
       "    }\n",
       "\n",
       "    .dataframe thead th {\n",
       "        text-align: right;\n",
       "    }\n",
       "</style>\n",
       "<table border=\"1\" class=\"dataframe\">\n",
       "  <thead>\n",
       "    <tr style=\"text-align: right;\">\n",
       "      <th></th>\n",
       "      <th>age</th>\n",
       "      <th>bmi</th>\n",
       "      <th>children</th>\n",
       "      <th>charges</th>\n",
       "    </tr>\n",
       "  </thead>\n",
       "  <tbody>\n",
       "    <tr>\n",
       "      <th>count</th>\n",
       "      <td>1338.000000</td>\n",
       "      <td>1333.000000</td>\n",
       "      <td>1338.000000</td>\n",
       "      <td>1338.000000</td>\n",
       "    </tr>\n",
       "    <tr>\n",
       "      <th>mean</th>\n",
       "      <td>39.207025</td>\n",
       "      <td>30.658545</td>\n",
       "      <td>1.094918</td>\n",
       "      <td>13270.422265</td>\n",
       "    </tr>\n",
       "    <tr>\n",
       "      <th>std</th>\n",
       "      <td>14.049960</td>\n",
       "      <td>6.092785</td>\n",
       "      <td>1.205493</td>\n",
       "      <td>12110.011237</td>\n",
       "    </tr>\n",
       "    <tr>\n",
       "      <th>min</th>\n",
       "      <td>18.000000</td>\n",
       "      <td>15.960000</td>\n",
       "      <td>0.000000</td>\n",
       "      <td>1121.873900</td>\n",
       "    </tr>\n",
       "    <tr>\n",
       "      <th>25%</th>\n",
       "      <td>27.000000</td>\n",
       "      <td>26.315000</td>\n",
       "      <td>0.000000</td>\n",
       "      <td>4740.287150</td>\n",
       "    </tr>\n",
       "    <tr>\n",
       "      <th>50%</th>\n",
       "      <td>39.000000</td>\n",
       "      <td>30.400000</td>\n",
       "      <td>1.000000</td>\n",
       "      <td>9382.033000</td>\n",
       "    </tr>\n",
       "    <tr>\n",
       "      <th>75%</th>\n",
       "      <td>51.000000</td>\n",
       "      <td>34.675000</td>\n",
       "      <td>2.000000</td>\n",
       "      <td>16639.912515</td>\n",
       "    </tr>\n",
       "    <tr>\n",
       "      <th>max</th>\n",
       "      <td>64.000000</td>\n",
       "      <td>53.130000</td>\n",
       "      <td>5.000000</td>\n",
       "      <td>63770.428010</td>\n",
       "    </tr>\n",
       "  </tbody>\n",
       "</table>\n",
       "</div>"
      ],
      "text/plain": [
       "               age          bmi     children       charges\n",
       "count  1338.000000  1333.000000  1338.000000   1338.000000\n",
       "mean     39.207025    30.658545     1.094918  13270.422265\n",
       "std      14.049960     6.092785     1.205493  12110.011237\n",
       "min      18.000000    15.960000     0.000000   1121.873900\n",
       "25%      27.000000    26.315000     0.000000   4740.287150\n",
       "50%      39.000000    30.400000     1.000000   9382.033000\n",
       "75%      51.000000    34.675000     2.000000  16639.912515\n",
       "max      64.000000    53.130000     5.000000  63770.428010"
      ]
     },
     "execution_count": 5,
     "metadata": {},
     "output_type": "execute_result"
    }
   ],
   "source": [
    "df.describe()"
   ]
  },
  {
   "cell_type": "code",
   "execution_count": 6,
   "metadata": {},
   "outputs": [],
   "source": [
    "# 중복 데이터 확인 및 제거\n",
    "df[df.duplicated(keep=False)]\n",
    "df = df.drop_duplicates()"
   ]
  },
  {
   "cell_type": "code",
   "execution_count": 7,
   "metadata": {},
   "outputs": [
    {
     "data": {
      "text/plain": [
       "age         0\n",
       "sex         0\n",
       "bmi         5\n",
       "children    0\n",
       "smoker      0\n",
       "region      0\n",
       "charges     0\n",
       "dtype: int64"
      ]
     },
     "execution_count": 7,
     "metadata": {},
     "output_type": "execute_result"
    }
   ],
   "source": [
    "# 컬럼별 결측치 여부 확인\n",
    "df.isnull().sum()"
   ]
  },
  {
   "cell_type": "code",
   "execution_count": 8,
   "metadata": {},
   "outputs": [
    {
     "name": "stderr",
     "output_type": "stream",
     "text": [
      "/var/folders/s2/kqf29pt97w527q67cq0htzc80000gn/T/ipykernel_21567/464883109.py:2: FutureWarning: A value is trying to be set on a copy of a DataFrame or Series through chained assignment using an inplace method.\n",
      "The behavior will change in pandas 3.0. This inplace method will never work because the intermediate object on which we are setting values always behaves as a copy.\n",
      "\n",
      "For example, when doing 'df[col].method(value, inplace=True)', try using 'df.method({col: value}, inplace=True)' or df[col] = df[col].method(value) instead, to perform the operation inplace on the original object.\n",
      "\n",
      "\n",
      "  df['bmi'].fillna(df['bmi'].mean(), inplace=True)\n"
     ]
    },
    {
     "data": {
      "text/plain": [
       "age         0\n",
       "sex         0\n",
       "bmi         0\n",
       "children    0\n",
       "smoker      0\n",
       "region      0\n",
       "charges     0\n",
       "dtype: int64"
      ]
     },
     "execution_count": 8,
     "metadata": {},
     "output_type": "execute_result"
    }
   ],
   "source": [
    "# bmi 결측치 평균값으로 채우기\n",
    "df['bmi'].fillna(df['bmi'].mean(), inplace=True)\n",
    "df.isnull().sum()"
   ]
  },
  {
   "cell_type": "code",
   "execution_count": 9,
   "metadata": {},
   "outputs": [
    {
     "data": {
      "text/html": [
       "<div>\n",
       "<style scoped>\n",
       "    .dataframe tbody tr th:only-of-type {\n",
       "        vertical-align: middle;\n",
       "    }\n",
       "\n",
       "    .dataframe tbody tr th {\n",
       "        vertical-align: top;\n",
       "    }\n",
       "\n",
       "    .dataframe thead th {\n",
       "        text-align: right;\n",
       "    }\n",
       "</style>\n",
       "<table border=\"1\" class=\"dataframe\">\n",
       "  <thead>\n",
       "    <tr style=\"text-align: right;\">\n",
       "      <th></th>\n",
       "      <th>age</th>\n",
       "      <th>sex</th>\n",
       "      <th>bmi</th>\n",
       "      <th>children</th>\n",
       "      <th>smoker</th>\n",
       "      <th>region</th>\n",
       "      <th>charges</th>\n",
       "    </tr>\n",
       "  </thead>\n",
       "  <tbody>\n",
       "    <tr>\n",
       "      <th>0</th>\n",
       "      <td>19</td>\n",
       "      <td>0</td>\n",
       "      <td>27.900</td>\n",
       "      <td>0</td>\n",
       "      <td>1</td>\n",
       "      <td>3</td>\n",
       "      <td>16884.92400</td>\n",
       "    </tr>\n",
       "    <tr>\n",
       "      <th>1</th>\n",
       "      <td>18</td>\n",
       "      <td>1</td>\n",
       "      <td>33.770</td>\n",
       "      <td>1</td>\n",
       "      <td>0</td>\n",
       "      <td>2</td>\n",
       "      <td>1725.55230</td>\n",
       "    </tr>\n",
       "    <tr>\n",
       "      <th>2</th>\n",
       "      <td>28</td>\n",
       "      <td>1</td>\n",
       "      <td>33.000</td>\n",
       "      <td>3</td>\n",
       "      <td>0</td>\n",
       "      <td>2</td>\n",
       "      <td>4449.46200</td>\n",
       "    </tr>\n",
       "    <tr>\n",
       "      <th>3</th>\n",
       "      <td>33</td>\n",
       "      <td>1</td>\n",
       "      <td>22.705</td>\n",
       "      <td>0</td>\n",
       "      <td>0</td>\n",
       "      <td>1</td>\n",
       "      <td>21984.47061</td>\n",
       "    </tr>\n",
       "    <tr>\n",
       "      <th>4</th>\n",
       "      <td>32</td>\n",
       "      <td>1</td>\n",
       "      <td>28.880</td>\n",
       "      <td>0</td>\n",
       "      <td>0</td>\n",
       "      <td>1</td>\n",
       "      <td>3866.85520</td>\n",
       "    </tr>\n",
       "  </tbody>\n",
       "</table>\n",
       "</div>"
      ],
      "text/plain": [
       "   age  sex     bmi  children  smoker  region      charges\n",
       "0   19    0  27.900         0       1       3  16884.92400\n",
       "1   18    1  33.770         1       0       2   1725.55230\n",
       "2   28    1  33.000         3       0       2   4449.46200\n",
       "3   33    1  22.705         0       0       1  21984.47061\n",
       "4   32    1  28.880         0       0       1   3866.85520"
      ]
     },
     "execution_count": 9,
     "metadata": {},
     "output_type": "execute_result"
    }
   ],
   "source": [
    "# 범주형 데이터를 sklearn label encoder 이용해서 수치화\n",
    "\n",
    "from sklearn.preprocessing import LabelEncoder\n",
    "\n",
    "col_lst = ['sex', 'smoker', 'region']\n",
    "\n",
    "def lb_encoding(df=df, col_lst=col_lst):\n",
    "\tfor col in col_lst:\n",
    "\t\tencoder = LabelEncoder()\n",
    "\t\tdf[col] = encoder.fit_transform(df[col])\n",
    "\n",
    "lb_encoding()\n",
    "df.head()"
   ]
  },
  {
   "cell_type": "code",
   "execution_count": 10,
   "metadata": {},
   "outputs": [],
   "source": [
    "# # 나이대별로 범주화\n",
    "# df.loc[df['age'] < 20, 'age'] = 10\n",
    "# df.loc[(df['age'] >= 20) & (df['age'] < 30), 'age'] = 20\n",
    "# df.loc[(df['age'] >= 30) & (df['age'] < 40), 'age'] = 30\n",
    "# df.loc[(df['age'] >= 40) & (df['age'] < 50), 'age'] = 40\n",
    "# df.loc[(df['age'] >= 50) & (df['age'] < 60), 'age'] = 50\n",
    "# df.loc[df['age'] >= 60, 'age'] = 60\n",
    "\n",
    "# df['age'].value_counts()\n"
   ]
  },
  {
   "cell_type": "code",
   "execution_count": 11,
   "metadata": {},
   "outputs": [
    {
     "data": {
      "image/png": "[encoded data removed]",
      "text/plain": [
       "<Figure size 640x480 with 1 Axes>"
      ]
     },
     "metadata": {},
     "output_type": "display_data"
    }
   ],
   "source": [
    "# bmi 이상치 확인하기\n",
    "\n",
    "sns.boxplot(data=df, x='bmi')\n",
    "plt.show()"
   ]
  },
  {
   "cell_type": "code",
   "execution_count": 12,
   "metadata": {},
   "outputs": [
    {
     "data": {
      "text/html": [
       "<div>\n",
       "<style scoped>\n",
       "    .dataframe tbody tr th:only-of-type {\n",
       "        vertical-align: middle;\n",
       "    }\n",
       "\n",
       "    .dataframe tbody tr th {\n",
       "        vertical-align: top;\n",
       "    }\n",
       "\n",
       "    .dataframe thead th {\n",
       "        text-align: right;\n",
       "    }\n",
       "</style>\n",
       "<table border=\"1\" class=\"dataframe\">\n",
       "  <thead>\n",
       "    <tr style=\"text-align: right;\">\n",
       "      <th></th>\n",
       "      <th>age</th>\n",
       "      <th>sex</th>\n",
       "      <th>bmi</th>\n",
       "      <th>children</th>\n",
       "      <th>smoker</th>\n",
       "      <th>region</th>\n",
       "      <th>charges</th>\n",
       "    </tr>\n",
       "  </thead>\n",
       "  <tbody>\n",
       "    <tr>\n",
       "      <th>116</th>\n",
       "      <td>58</td>\n",
       "      <td>1</td>\n",
       "      <td>49.06</td>\n",
       "      <td>0</td>\n",
       "      <td>0</td>\n",
       "      <td>2</td>\n",
       "      <td>11381.32540</td>\n",
       "    </tr>\n",
       "    <tr>\n",
       "      <th>286</th>\n",
       "      <td>46</td>\n",
       "      <td>0</td>\n",
       "      <td>48.07</td>\n",
       "      <td>2</td>\n",
       "      <td>0</td>\n",
       "      <td>0</td>\n",
       "      <td>9432.92530</td>\n",
       "    </tr>\n",
       "    <tr>\n",
       "      <th>401</th>\n",
       "      <td>47</td>\n",
       "      <td>1</td>\n",
       "      <td>47.52</td>\n",
       "      <td>1</td>\n",
       "      <td>0</td>\n",
       "      <td>2</td>\n",
       "      <td>8083.91980</td>\n",
       "    </tr>\n",
       "    <tr>\n",
       "      <th>543</th>\n",
       "      <td>54</td>\n",
       "      <td>0</td>\n",
       "      <td>47.41</td>\n",
       "      <td>0</td>\n",
       "      <td>1</td>\n",
       "      <td>2</td>\n",
       "      <td>63770.42801</td>\n",
       "    </tr>\n",
       "    <tr>\n",
       "      <th>847</th>\n",
       "      <td>23</td>\n",
       "      <td>1</td>\n",
       "      <td>50.38</td>\n",
       "      <td>1</td>\n",
       "      <td>0</td>\n",
       "      <td>2</td>\n",
       "      <td>2438.05520</td>\n",
       "    </tr>\n",
       "    <tr>\n",
       "      <th>860</th>\n",
       "      <td>37</td>\n",
       "      <td>0</td>\n",
       "      <td>47.60</td>\n",
       "      <td>2</td>\n",
       "      <td>1</td>\n",
       "      <td>3</td>\n",
       "      <td>46113.51100</td>\n",
       "    </tr>\n",
       "    <tr>\n",
       "      <th>1047</th>\n",
       "      <td>22</td>\n",
       "      <td>1</td>\n",
       "      <td>52.58</td>\n",
       "      <td>1</td>\n",
       "      <td>1</td>\n",
       "      <td>2</td>\n",
       "      <td>44501.39820</td>\n",
       "    </tr>\n",
       "    <tr>\n",
       "      <th>1088</th>\n",
       "      <td>52</td>\n",
       "      <td>1</td>\n",
       "      <td>47.74</td>\n",
       "      <td>1</td>\n",
       "      <td>0</td>\n",
       "      <td>2</td>\n",
       "      <td>9748.91060</td>\n",
       "    </tr>\n",
       "    <tr>\n",
       "      <th>1317</th>\n",
       "      <td>18</td>\n",
       "      <td>1</td>\n",
       "      <td>53.13</td>\n",
       "      <td>0</td>\n",
       "      <td>0</td>\n",
       "      <td>2</td>\n",
       "      <td>1163.46270</td>\n",
       "    </tr>\n",
       "  </tbody>\n",
       "</table>\n",
       "</div>"
      ],
      "text/plain": [
       "      age  sex    bmi  children  smoker  region      charges\n",
       "116    58    1  49.06         0       0       2  11381.32540\n",
       "286    46    0  48.07         2       0       0   9432.92530\n",
       "401    47    1  47.52         1       0       2   8083.91980\n",
       "543    54    0  47.41         0       1       2  63770.42801\n",
       "847    23    1  50.38         1       0       2   2438.05520\n",
       "860    37    0  47.60         2       1       3  46113.51100\n",
       "1047   22    1  52.58         1       1       2  44501.39820\n",
       "1088   52    1  47.74         1       0       2   9748.91060\n",
       "1317   18    1  53.13         0       0       2   1163.46270"
      ]
     },
     "execution_count": 12,
     "metadata": {},
     "output_type": "execute_result"
    }
   ],
   "source": [
    "df.loc[df['bmi'] > 47]"
   ]
  },
  {
   "cell_type": "code",
   "execution_count": 13,
   "metadata": {},
   "outputs": [],
   "source": [
    "def metrics(model, y_tst, pred):\n",
    "\t\tmae = mean_absolute_error(y_tst, pred)\n",
    "\t\tmse = mean_squared_error(y_tst, pred)\n",
    "\t\trmse = np.sqrt(mse)\n",
    "\t\tr2 = r2_score(y_tst, pred)\n",
    "\t\t\n",
    "\t\treturn f'{model} MAE : {round(mae, 4)}, RMSE : {round(rmse, 4)}, R2 : {round(r2, 4)}'\n",
    "\t"
   ]
  },
  {
   "cell_type": "code",
   "execution_count": 14,
   "metadata": {},
   "outputs": [],
   "source": [
    "\n",
    "def model_predict(model_lst, x_trn, x_tst, y_trn, y_tst):\n",
    "\t\t\n",
    "\tfor model in model_lst:\n",
    "\t\tmodel.fit(x_trn, y_trn)\n",
    "\t\tpred = model.predict(x_tst)\n",
    "\t\tresult = metrics(model, y_tst, pred)\n",
    "\t\tprint(result)\n"
   ]
  },
  {
   "cell_type": "markdown",
   "metadata": {},
   "source": [
    "# DataFrame 전체 Scailing"
   ]
  },
  {
   "cell_type": "markdown",
   "metadata": {},
   "source": [
    "## Standard Scaler"
   ]
  },
  {
   "cell_type": "code",
   "execution_count": 15,
   "metadata": {},
   "outputs": [
    {
     "name": "stdout",
     "output_type": "stream",
     "text": [
      "LinearRegression() MAE : 0.3641, RMSE : 0.5347, R2 : 0.7509\n",
      "RandomForestRegressor() MAE : 0.2437, RMSE : 0.4353, R2 : 0.8349\n",
      "Ridge() MAE : 0.3642, RMSE : 0.5348, R2 : 0.7509\n",
      "Lasso() MAE : 0.8184, RMSE : 1.0744, R2 : -0.0057\n"
     ]
    }
   ],
   "source": [
    "from sklearn.model_selection import train_test_split\n",
    "from sklearn.linear_model import LinearRegression, Ridge, Lasso\n",
    "from sklearn.ensemble import RandomForestRegressor\n",
    "from sklearn.metrics import mean_squared_error, mean_absolute_error, r2_score\n",
    "from sklearn.preprocessing import StandardScaler, MinMaxScaler\n",
    "\n",
    "scaler = StandardScaler()\n",
    "\n",
    "df_scaled = scaler.fit_transform(df)\n",
    "\n",
    "x = df_scaled[:, :-1]\n",
    "y = df_scaled[:, -1]\n",
    "\n",
    "x_trn, x_tst, y_trn, y_tst = train_test_split(x, y, test_size=0.2, random_state=0)\n",
    "\n",
    "\n",
    "lr_reg = LinearRegression()\n",
    "rf_reg = RandomForestRegressor()\n",
    "ridge = Ridge()\n",
    "lasso = Lasso()\n",
    "\n",
    "\n",
    "model_lst = [lr_reg, rf_reg, ridge, lasso]\n",
    "model_predict(model_lst, x_trn, x_tst, y_trn, y_tst)"
   ]
  },
  {
   "cell_type": "markdown",
   "metadata": {},
   "source": [
    "## MinMax Scaler"
   ]
  },
  {
   "cell_type": "code",
   "execution_count": 16,
   "metadata": {},
   "outputs": [
    {
     "name": "stdout",
     "output_type": "stream",
     "text": [
      "LinearRegression() MAE : 0.0704, RMSE : 0.1033, R2 : 0.7509\n",
      "RandomForestRegressor() MAE : 0.0469, RMSE : 0.0843, R2 : 0.8344\n",
      "Ridge() MAE : 0.0704, RMSE : 0.1035, R2 : 0.7499\n",
      "Lasso() MAE : 0.1582, RMSE : 0.2076, R2 : -0.0057\n"
     ]
    }
   ],
   "source": [
    "scaler = MinMaxScaler()\n",
    "\n",
    "df_scaled = scaler.fit_transform(df)\n",
    "\n",
    "x = df_scaled[:, :-1]\n",
    "y = df_scaled[:, -1]\n",
    "\n",
    "x_trn, x_tst, y_trn, y_tst = train_test_split(x, y, test_size=0.2, random_state=0)\n",
    "\n",
    "\n",
    "lr_reg = LinearRegression()\n",
    "rf_reg = RandomForestRegressor()\n",
    "ridge = Ridge()\n",
    "lasso = Lasso()\n",
    "\n",
    "\n",
    "model_lst = [lr_reg, rf_reg, ridge, lasso]\n",
    "model_predict(model_lst, x_trn, x_tst, y_trn, y_tst)"
   ]
  },
  {
   "cell_type": "markdown",
   "metadata": {},
   "source": [
    "# Train, Test 따로 Scailing"
   ]
  },
  {
   "cell_type": "markdown",
   "metadata": {},
   "source": [
    "## Standard Scaler"
   ]
  },
  {
   "cell_type": "code",
   "execution_count": 17,
   "metadata": {},
   "outputs": [
    {
     "name": "stdout",
     "output_type": "stream",
     "text": [
      "LinearRegression() MAE : 0.3713, RMSE : 0.5453, R2 : 0.7509\n",
      "RandomForestRegressor() MAE : 0.2496, RMSE : 0.4443, R2 : 0.8346\n",
      "Ridge() MAE : 0.3714, RMSE : 0.5453, R2 : 0.7509\n",
      "Lasso() MAE : 0.8346, RMSE : 1.0957, R2 : -0.0057\n"
     ]
    }
   ],
   "source": [
    "from sklearn.model_selection import train_test_split\n",
    "from sklearn.linear_model import LinearRegression, Ridge, Lasso\n",
    "from sklearn.ensemble import RandomForestRegressor\n",
    "from sklearn.metrics import mean_squared_error, mean_absolute_error\n",
    "from sklearn.preprocessing import StandardScaler, MinMaxScaler\n",
    "\n",
    "\n",
    "x = df.iloc[:, :-1]\n",
    "y = df.iloc[:, -1]\n",
    "\n",
    "x_trn, x_tst, y_trn, y_tst = train_test_split(x, y, test_size=0.2, random_state=0)\n",
    "\n",
    "scaler = StandardScaler()\n",
    "\n",
    "scaled_x_trn = scaler.fit_transform(x_trn)\n",
    "scaled_x_tst = scaler.transform(x_tst)\n",
    "\n",
    "scaled_y_trn = scaler.fit_transform(y_trn.values.reshape(-1,1)).flatten()\n",
    "scaled_y_tst = scaler.transform(y_tst.values.reshape(-1,1)).flatten()\n",
    "\n",
    "\n",
    "scaled_y_tst = scaler.transform(y_tst.values.reshape(-1,1))\n",
    "\n",
    "lr_reg = LinearRegression()\n",
    "rf_reg = RandomForestRegressor()\n",
    "ridge = Ridge()\n",
    "lasso = Lasso()\n",
    "\n",
    "\n",
    "model_lst = [lr_reg, rf_reg, ridge, lasso]\n",
    "model_predict(model_lst, scaled_x_trn, scaled_x_tst, scaled_y_trn, scaled_y_tst)"
   ]
  },
  {
   "cell_type": "markdown",
   "metadata": {},
   "source": [
    "## MinMax Scaler"
   ]
  },
  {
   "cell_type": "code",
   "execution_count": 18,
   "metadata": {},
   "outputs": [
    {
     "name": "stdout",
     "output_type": "stream",
     "text": [
      "LinearRegression() MAE : 0.0704, RMSE : 0.1033, R2 : 0.7509\n",
      "RandomForestRegressor() MAE : 0.047, RMSE : 0.0842, R2 : 0.8345\n",
      "Ridge() MAE : 0.0704, RMSE : 0.1035, R2 : 0.7499\n",
      "Lasso() MAE : 0.1582, RMSE : 0.2076, R2 : -0.0057\n"
     ]
    }
   ],
   "source": [
    "scaler = MinMaxScaler()\n",
    "\n",
    "df_scaled = scaler.fit_transform(df)\n",
    "\n",
    "x = df_scaled[:, :-1]\n",
    "y = df_scaled[:, -1]\n",
    "\n",
    "x_trn, x_tst, y_trn, y_tst = train_test_split(x, y, test_size=0.2, random_state=0)\n",
    "\n",
    "\n",
    "lr_reg = LinearRegression()\n",
    "rf_reg = RandomForestRegressor()\n",
    "ridge = Ridge()\n",
    "lasso = Lasso()\n",
    "\n",
    "\n",
    "model_lst = [lr_reg, rf_reg, ridge, lasso]\n",
    "model_predict(model_lst, x_trn, x_tst, y_trn, y_tst)"
   ]
  }
 ],
 "metadata": {
  "kernelspec": {
   "display_name": "new_env",
   "language": "python",
   "name": "python3"
  },
  "language_info": {
   "codemirror_mode": {
    "name": "ipython",
    "version": 3
   },
   "file_extension": ".py",
   "mimetype": "text/x-python",
   "name": "python",
   "nbconvert_exporter": "python",
   "pygments_lexer": "ipython3",
   "version": "3.10.14"
  }
 },
 "nbformat": 4,
 "nbformat_minor": 2
}
