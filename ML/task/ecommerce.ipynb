{
 "cells": [
  {
   "cell_type": "markdown",
   "metadata": {},
   "source": [
    "# [실습] e-commerce 데이터를 활용한 정시 배송 여부 판단"
   ]
  },
  {
   "cell_type": "markdown",
   "metadata": {},
   "source": [
    "**[모델링 체크리스트]**\n",
    "\n",
    "1. 어떠한 지도학습이 적합한가? (분류 vs 회귀)\n",
    "2. 선택한 지도학습 모델 중에서 3가지 이상을 골라서 성능을 비교해보자. \n",
    "3. 성능을 확인하고 어떠한 모델을 사용했을 때 예측이 잘되었는지 평가지표와 함께 기록해보자."
   ]
  },
  {
   "cell_type": "code",
   "execution_count": 1,
   "metadata": {},
   "outputs": [],
   "source": [
    "import numpy as np\n",
    "import pandas as pd\n",
    "import matplotlib.pyplot as plt\n",
    "import seaborn as sns"
   ]
  },
  {
   "cell_type": "markdown",
   "metadata": {},
   "source": [
    "1. 실습 데이터 (pd.read_csv 로 로드)\n",
    "    - 데이터 출처 :  https://www.kaggle.com/datasets/prachi13/customer-analytics\n",
    "    - 데이터 설명 : e-commerce 배송의 정시 도착여부 (1: 정시배송 0 : 정시미배송)\n",
    "    \n",
    "    1) x_train: https://raw.githubusercontent.com/Datamanim/datarepo/main/shipping/X_train.csv\n",
    "    \n",
    "    2) y_train: https://raw.githubusercontent.com/Datamanim/datarepo/main/shipping/y_train.csv\n",
    "    \n",
    "    3) x_test: https://raw.githubusercontent.com/Datamanim/datarepo/main/shipping/X_test.csv\n",
    "    \n",
    "    4)x_label(평가용) : https://raw.githubusercontent.com/Datamanim/datarepo/main/shipping/y_test.csv\n",
    "    \n",
    "\n",
    "→ 데이터가 train-test로 나누어져 있으므로 train_test_split 메서드는 train데이터를 train-validation 데이터로 나누어 모델링하는데 사용하세요\n",
    "\n",
    "→ test 데이터는 성능을 측정하기 위한 고정된 데이터로 활용하고, train데이터와 병합하지 않습니다"
   ]
  },
  {
   "cell_type": "code",
   "execution_count": 2,
   "metadata": {},
   "outputs": [],
   "source": [
    "x_trn_org = pd.read_csv('https://raw.githubusercontent.com/Datamanim/datarepo/main/shipping/X_train.csv')\n",
    "y_trn_org = pd.read_csv('https://raw.githubusercontent.com/Datamanim/datarepo/main/shipping/y_train.csv')"
   ]
  },
  {
   "cell_type": "code",
   "execution_count": 3,
   "metadata": {},
   "outputs": [],
   "source": [
    "x_train = x_trn_org.drop(['ID'], axis=1)\n",
    "y_train = y_trn_org.drop(['ID'], axis=1)"
   ]
  },
  {
   "cell_type": "code",
   "execution_count": 4,
   "metadata": {},
   "outputs": [
    {
     "data": {
      "text/html": [
       "<div>\n",
       "<style scoped>\n",
       "    .dataframe tbody tr th:only-of-type {\n",
       "        vertical-align: middle;\n",
       "    }\n",
       "\n",
       "    .dataframe tbody tr th {\n",
       "        vertical-align: top;\n",
       "    }\n",
       "\n",
       "    .dataframe thead th {\n",
       "        text-align: right;\n",
       "    }\n",
       "</style>\n",
       "<table border=\"1\" class=\"dataframe\">\n",
       "  <thead>\n",
       "    <tr style=\"text-align: right;\">\n",
       "      <th></th>\n",
       "      <th>Warehouse_block</th>\n",
       "      <th>Mode_of_Shipment</th>\n",
       "      <th>Customer_care_calls</th>\n",
       "      <th>Customer_rating</th>\n",
       "      <th>Cost_of_the_Product</th>\n",
       "      <th>Prior_purchases</th>\n",
       "      <th>Product_importance</th>\n",
       "      <th>Gender</th>\n",
       "      <th>Discount_offered</th>\n",
       "      <th>Weight_in_gms</th>\n",
       "    </tr>\n",
       "  </thead>\n",
       "  <tbody>\n",
       "    <tr>\n",
       "      <th>0</th>\n",
       "      <td>A</td>\n",
       "      <td>Flight</td>\n",
       "      <td>4</td>\n",
       "      <td>3</td>\n",
       "      <td>266</td>\n",
       "      <td>5</td>\n",
       "      <td>high</td>\n",
       "      <td>F</td>\n",
       "      <td>5</td>\n",
       "      <td>1590</td>\n",
       "    </tr>\n",
       "    <tr>\n",
       "      <th>1</th>\n",
       "      <td>F</td>\n",
       "      <td>Ship</td>\n",
       "      <td>3</td>\n",
       "      <td>1</td>\n",
       "      <td>174</td>\n",
       "      <td>2</td>\n",
       "      <td>low</td>\n",
       "      <td>M</td>\n",
       "      <td>44</td>\n",
       "      <td>1556</td>\n",
       "    </tr>\n",
       "    <tr>\n",
       "      <th>2</th>\n",
       "      <td>F</td>\n",
       "      <td>Road</td>\n",
       "      <td>4</td>\n",
       "      <td>1</td>\n",
       "      <td>154</td>\n",
       "      <td>10</td>\n",
       "      <td>high</td>\n",
       "      <td>M</td>\n",
       "      <td>10</td>\n",
       "      <td>5674</td>\n",
       "    </tr>\n",
       "    <tr>\n",
       "      <th>3</th>\n",
       "      <td>F</td>\n",
       "      <td>Ship</td>\n",
       "      <td>4</td>\n",
       "      <td>3</td>\n",
       "      <td>158</td>\n",
       "      <td>3</td>\n",
       "      <td>medium</td>\n",
       "      <td>F</td>\n",
       "      <td>27</td>\n",
       "      <td>1207</td>\n",
       "    </tr>\n",
       "    <tr>\n",
       "      <th>4</th>\n",
       "      <td>A</td>\n",
       "      <td>Flight</td>\n",
       "      <td>5</td>\n",
       "      <td>3</td>\n",
       "      <td>175</td>\n",
       "      <td>3</td>\n",
       "      <td>low</td>\n",
       "      <td>M</td>\n",
       "      <td>7</td>\n",
       "      <td>4833</td>\n",
       "    </tr>\n",
       "  </tbody>\n",
       "</table>\n",
       "</div>"
      ],
      "text/plain": [
       "  Warehouse_block Mode_of_Shipment Customer_care_calls  Customer_rating  \\\n",
       "0               A           Flight                   4                3   \n",
       "1               F             Ship                   3                1   \n",
       "2               F             Road                   4                1   \n",
       "3               F             Ship                   4                3   \n",
       "4               A           Flight                   5                3   \n",
       "\n",
       "   Cost_of_the_Product  Prior_purchases Product_importance Gender  \\\n",
       "0                  266                5               high      F   \n",
       "1                  174                2                low      M   \n",
       "2                  154               10               high      M   \n",
       "3                  158                3             medium      F   \n",
       "4                  175                3                low      M   \n",
       "\n",
       "   Discount_offered  Weight_in_gms  \n",
       "0                 5           1590  \n",
       "1                44           1556  \n",
       "2                10           5674  \n",
       "3                27           1207  \n",
       "4                 7           4833  "
      ]
     },
     "execution_count": 4,
     "metadata": {},
     "output_type": "execute_result"
    }
   ],
   "source": [
    "x_train.head()"
   ]
  },
  {
   "cell_type": "code",
   "execution_count": 5,
   "metadata": {},
   "outputs": [
    {
     "data": {
      "text/plain": [
       "Mode_of_Shipment\n",
       "Ship      4512\n",
       "Flight    1066\n",
       "Road      1020\n",
       "Name: count, dtype: int64"
      ]
     },
     "execution_count": 5,
     "metadata": {},
     "output_type": "execute_result"
    }
   ],
   "source": [
    "x_train['Mode_of_Shipment'].value_counts()"
   ]
  },
  {
   "cell_type": "code",
   "execution_count": 6,
   "metadata": {},
   "outputs": [
    {
     "data": {
      "text/plain": [
       "Product_importance\n",
       "low       3162\n",
       "medium    2866\n",
       "high       570\n",
       "Name: count, dtype: int64"
      ]
     },
     "execution_count": 6,
     "metadata": {},
     "output_type": "execute_result"
    }
   ],
   "source": [
    "x_train['Product_importance'].value_counts()"
   ]
  },
  {
   "cell_type": "code",
   "execution_count": 7,
   "metadata": {},
   "outputs": [
    {
     "name": "stdout",
     "output_type": "stream",
     "text": [
      "<class 'pandas.core.frame.DataFrame'>\n",
      "RangeIndex: 6598 entries, 0 to 6597\n",
      "Data columns (total 10 columns):\n",
      " #   Column               Non-Null Count  Dtype \n",
      "---  ------               --------------  ----- \n",
      " 0   Warehouse_block      6598 non-null   object\n",
      " 1   Mode_of_Shipment     6598 non-null   object\n",
      " 2   Customer_care_calls  6598 non-null   object\n",
      " 3   Customer_rating      6598 non-null   int64 \n",
      " 4   Cost_of_the_Product  6598 non-null   int64 \n",
      " 5   Prior_purchases      6598 non-null   int64 \n",
      " 6   Product_importance   6598 non-null   object\n",
      " 7   Gender               6598 non-null   object\n",
      " 8   Discount_offered     6598 non-null   int64 \n",
      " 9   Weight_in_gms        6598 non-null   int64 \n",
      "dtypes: int64(5), object(5)\n",
      "memory usage: 515.6+ KB\n"
     ]
    }
   ],
   "source": [
    "x_train.info()"
   ]
  },
  {
   "cell_type": "code",
   "execution_count": 8,
   "metadata": {},
   "outputs": [
    {
     "data": {
      "text/html": [
       "<div>\n",
       "<style scoped>\n",
       "    .dataframe tbody tr th:only-of-type {\n",
       "        vertical-align: middle;\n",
       "    }\n",
       "\n",
       "    .dataframe tbody tr th {\n",
       "        vertical-align: top;\n",
       "    }\n",
       "\n",
       "    .dataframe thead th {\n",
       "        text-align: right;\n",
       "    }\n",
       "</style>\n",
       "<table border=\"1\" class=\"dataframe\">\n",
       "  <thead>\n",
       "    <tr style=\"text-align: right;\">\n",
       "      <th></th>\n",
       "      <th>Warehouse_block</th>\n",
       "      <th>Mode_of_Shipment</th>\n",
       "      <th>Customer_care_calls</th>\n",
       "      <th>Customer_rating</th>\n",
       "      <th>Cost_of_the_Product</th>\n",
       "      <th>Prior_purchases</th>\n",
       "      <th>Product_importance</th>\n",
       "      <th>Gender</th>\n",
       "      <th>Discount_offered</th>\n",
       "      <th>Weight_in_gms</th>\n",
       "    </tr>\n",
       "  </thead>\n",
       "  <tbody>\n",
       "    <tr>\n",
       "      <th>0</th>\n",
       "      <td>0</td>\n",
       "      <td>0</td>\n",
       "      <td>4</td>\n",
       "      <td>3</td>\n",
       "      <td>266</td>\n",
       "      <td>5</td>\n",
       "      <td>0</td>\n",
       "      <td>0</td>\n",
       "      <td>5</td>\n",
       "      <td>1590</td>\n",
       "    </tr>\n",
       "    <tr>\n",
       "      <th>1</th>\n",
       "      <td>4</td>\n",
       "      <td>2</td>\n",
       "      <td>3</td>\n",
       "      <td>1</td>\n",
       "      <td>174</td>\n",
       "      <td>2</td>\n",
       "      <td>1</td>\n",
       "      <td>1</td>\n",
       "      <td>44</td>\n",
       "      <td>1556</td>\n",
       "    </tr>\n",
       "    <tr>\n",
       "      <th>2</th>\n",
       "      <td>4</td>\n",
       "      <td>1</td>\n",
       "      <td>4</td>\n",
       "      <td>1</td>\n",
       "      <td>154</td>\n",
       "      <td>10</td>\n",
       "      <td>0</td>\n",
       "      <td>1</td>\n",
       "      <td>10</td>\n",
       "      <td>5674</td>\n",
       "    </tr>\n",
       "    <tr>\n",
       "      <th>3</th>\n",
       "      <td>4</td>\n",
       "      <td>2</td>\n",
       "      <td>4</td>\n",
       "      <td>3</td>\n",
       "      <td>158</td>\n",
       "      <td>3</td>\n",
       "      <td>2</td>\n",
       "      <td>0</td>\n",
       "      <td>27</td>\n",
       "      <td>1207</td>\n",
       "    </tr>\n",
       "    <tr>\n",
       "      <th>4</th>\n",
       "      <td>0</td>\n",
       "      <td>0</td>\n",
       "      <td>5</td>\n",
       "      <td>3</td>\n",
       "      <td>175</td>\n",
       "      <td>3</td>\n",
       "      <td>1</td>\n",
       "      <td>1</td>\n",
       "      <td>7</td>\n",
       "      <td>4833</td>\n",
       "    </tr>\n",
       "  </tbody>\n",
       "</table>\n",
       "</div>"
      ],
      "text/plain": [
       "   Warehouse_block  Mode_of_Shipment Customer_care_calls  Customer_rating  \\\n",
       "0                0                 0                   4                3   \n",
       "1                4                 2                   3                1   \n",
       "2                4                 1                   4                1   \n",
       "3                4                 2                   4                3   \n",
       "4                0                 0                   5                3   \n",
       "\n",
       "   Cost_of_the_Product  Prior_purchases  Product_importance  Gender  \\\n",
       "0                  266                5                   0       0   \n",
       "1                  174                2                   1       1   \n",
       "2                  154               10                   0       1   \n",
       "3                  158                3                   2       0   \n",
       "4                  175                3                   1       1   \n",
       "\n",
       "   Discount_offered  Weight_in_gms  \n",
       "0                 5           1590  \n",
       "1                44           1556  \n",
       "2                10           5674  \n",
       "3                27           1207  \n",
       "4                 7           4833  "
      ]
     },
     "execution_count": 8,
     "metadata": {},
     "output_type": "execute_result"
    }
   ],
   "source": [
    "# 범주형 데이터를 sklearn label encoder 이용해서 수치화\n",
    "\n",
    "from sklearn.preprocessing import LabelEncoder\n",
    "\n",
    "col_lst = ['Warehouse_block', 'Mode_of_Shipment', 'Product_importance', 'Gender']\n",
    "\n",
    "def lb_encoding(df, col_lst):\n",
    "\tfor col in col_lst:\n",
    "\t\tencoder = LabelEncoder()\n",
    "\t\tdf[col] = encoder.fit_transform(df[col])\n",
    "\n",
    "lb_encoding(x_train, col_lst)\n",
    "x_train.head()\n"
   ]
  },
  {
   "cell_type": "code",
   "execution_count": 9,
   "metadata": {},
   "outputs": [],
   "source": [
    "x_train.loc[x_train['Customer_care_calls'] == '$7'] = 7\n",
    "x_train['Customer_care_calls'] = x_train['Customer_care_calls'].astype('int')"
   ]
  },
  {
   "cell_type": "code",
   "execution_count": 10,
   "metadata": {},
   "outputs": [
    {
     "name": "stdout",
     "output_type": "stream",
     "text": [
      "<class 'pandas.core.frame.DataFrame'>\n",
      "RangeIndex: 6598 entries, 0 to 6597\n",
      "Data columns (total 10 columns):\n",
      " #   Column               Non-Null Count  Dtype\n",
      "---  ------               --------------  -----\n",
      " 0   Warehouse_block      6598 non-null   int64\n",
      " 1   Mode_of_Shipment     6598 non-null   int64\n",
      " 2   Customer_care_calls  6598 non-null   int64\n",
      " 3   Customer_rating      6598 non-null   int64\n",
      " 4   Cost_of_the_Product  6598 non-null   int64\n",
      " 5   Prior_purchases      6598 non-null   int64\n",
      " 6   Product_importance   6598 non-null   int64\n",
      " 7   Gender               6598 non-null   int64\n",
      " 8   Discount_offered     6598 non-null   int64\n",
      " 9   Weight_in_gms        6598 non-null   int64\n",
      "dtypes: int64(10)\n",
      "memory usage: 515.6 KB\n"
     ]
    }
   ],
   "source": [
    "x_train.info()"
   ]
  },
  {
   "cell_type": "code",
   "execution_count": 11,
   "metadata": {},
   "outputs": [],
   "source": [
    "def metrics(model, y_tst, pred):\n",
    "\t\tacc = accuracy_score(y_tst, pred)\n",
    "\t\tprecision = precision_score(y_tst, pred)\n",
    "\t\trecall = recall_score(y_tst, pred)\n",
    "\t\tf1 = f1_score(y_tst, pred)\n",
    "\t\t\n",
    "\t\treturn f'{model} Accuracy : {round(acc, 4)}, Precision : {round(precision, 4)}, Recall : {round(recall, 4)}, F1 Score : {round(f1, 4)}'"
   ]
  },
  {
   "cell_type": "code",
   "execution_count": 12,
   "metadata": {},
   "outputs": [],
   "source": [
    "def model_predict(model_lst, x_trn, x_tst, y_trn, y_tst):\n",
    "\t\t\n",
    "\tfor model in model_lst:\n",
    "\t\tmodel.fit(x_trn, y_trn)\n",
    "\t\tpred = model.predict(x_tst)\n",
    "\t\tresult = metrics(model, y_tst, pred)\n",
    "\t\tprint(result)\n"
   ]
  },
  {
   "cell_type": "code",
   "execution_count": 13,
   "metadata": {},
   "outputs": [],
   "source": [
    "from sklearn.metrics import accuracy_score, precision_score, recall_score, f1_score \n",
    "from sklearn.model_selection import train_test_split\n",
    "from sklearn.ensemble import RandomForestClassifier\n",
    "from sklearn.tree import DecisionTreeClassifier\n",
    "from xgboost import XGBClassifier\n",
    "from sklearn.linear_model import LogisticRegression\n",
    "from sklearn.preprocessing import MinMaxScaler, StandardScaler\n",
    "from lightgbm import LGBMClassifier\n",
    "import warnings\n",
    "warnings.filterwarnings('ignore')\n"
   ]
  },
  {
   "cell_type": "markdown",
   "metadata": {},
   "source": [
    "## Validation"
   ]
  },
  {
   "cell_type": "code",
   "execution_count": 14,
   "metadata": {},
   "outputs": [
    {
     "name": "stdout",
     "output_type": "stream",
     "text": [
      "RandomForestClassifier() Accuracy : 0.678, Precision : 0.7735, Recall : 0.6553, F1 Score : 0.7095\n",
      "DecisionTreeClassifier() Accuracy : 0.6356, Precision : 0.6922, Recall : 0.7071, F1 Score : 0.6996\n",
      "LogisticRegression() Accuracy : 0.6379, Precision : 0.6924, Recall : 0.7134, F1 Score : 0.7027\n",
      "[LightGBM] [Info] Number of positive: 3145, number of negative: 2133\n",
      "[LightGBM] [Info] Auto-choosing row-wise multi-threading, the overhead of testing was 0.000269 seconds.\n",
      "You can set `force_row_wise=true` to remove the overhead.\n",
      "And if memory is not enough, you can set `force_col_wise=true`.\n",
      "[LightGBM] [Info] Total Bins 573\n",
      "[LightGBM] [Info] Number of data points in the train set: 5278, number of used features: 10\n",
      "[LightGBM] [Info] [binary:BoostFromScore]: pavg=0.595870 -> initscore=0.388284\n",
      "[LightGBM] [Info] Start training from score 0.388284\n",
      "LGBMClassifier() Accuracy : 0.6621, Precision : 0.75, Recall : 0.6553, F1 Score : 0.6995\n"
     ]
    }
   ],
   "source": [
    "x_trn, x_val, y_trn, y_val = train_test_split(x_train, y_train, test_size=0.2, random_state=0)\n",
    "\n",
    "rf_cl = RandomForestClassifier()\n",
    "dtree = DecisionTreeClassifier()\n",
    "logistic = LogisticRegression()\n",
    "lgbm = LGBMClassifier()\n",
    "xgb = XGBClassifier()\n",
    "\n",
    "model_lst = [rf_cl, dtree, logistic, lgbm] #xgb\n",
    "model_predict(model_lst, x_trn, x_val, y_trn, y_val)"
   ]
  },
  {
   "cell_type": "markdown",
   "metadata": {},
   "source": [
    "## GridSearchCV"
   ]
  },
  {
   "cell_type": "code",
   "execution_count": 15,
   "metadata": {},
   "outputs": [],
   "source": [
    "from sklearn.model_selection import GridSearchCV\n",
    "\n",
    "def grid_search(model, params, scores, x_train, y_train):\n",
    "\tfor score in scores:\n",
    "\t\tgrid_cv = GridSearchCV(model, param_grid=params, scoring=score, cv=5)\n",
    "\t\tgrid_cv.fit(x_train , y_train)\n",
    "\t\tprint('GridSearchCV 최고 {0} 정확도 수치:{1:.4f}'.format(score, grid_cv.best_score_))\n",
    "\t\tprint('GridSearchCV 최적 하이퍼 파라미터:', grid_cv.best_params_)\n"
   ]
  },
  {
   "cell_type": "markdown",
   "metadata": {},
   "source": [
    "### Random Forest"
   ]
  },
  {
   "cell_type": "code",
   "execution_count": 16,
   "metadata": {},
   "outputs": [
    {
     "name": "stdout",
     "output_type": "stream",
     "text": [
      "GridSearchCV 최고 accuracy 정확도 수치:0.6857\n",
      "GridSearchCV 최적 하이퍼 파라미터: {'max_depth': 20, 'max_leaf_nodes': 15, 'n_estimators': 300}\n",
      "GridSearchCV 최고 precision 정확도 수치:0.9050\n",
      "GridSearchCV 최적 하이퍼 파라미터: {'max_depth': 10, 'max_leaf_nodes': 15, 'n_estimators': 300}\n"
     ]
    }
   ],
   "source": [
    "params = {\n",
    "\t'n_estimators' : [100, 300],\n",
    "    'max_depth' : [5, 10, 16 ,20],\n",
    "\t'max_leaf_nodes' : [15, 20]\n",
    "\t}\n",
    "\n",
    "scores = ['accuracy', 'precision', ] # 'recall', 'f1', 'roc_auc'\n",
    "\n",
    "grid_search(rf_cl, params, scores, x_train , y_train)"
   ]
  },
  {
   "cell_type": "code",
   "execution_count": 17,
   "metadata": {},
   "outputs": [
    {
     "name": "stdout",
     "output_type": "stream",
     "text": [
      "GridSearchCV 최고 accuracy 정확도 수치:0.6861\n",
      "GridSearchCV 최적 하이퍼 파라미터: {'max_depth': 10, 'max_leaf_nodes': 15, 'n_estimators': 100}\n",
      "GridSearchCV 최고 precision 정확도 수치:0.9022\n",
      "GridSearchCV 최적 하이퍼 파라미터: {'max_depth': 10, 'max_leaf_nodes': 10, 'n_estimators': 300}\n"
     ]
    }
   ],
   "source": [
    "params = {\n",
    "\t'n_estimators' : [100, 300],\n",
    "    'max_depth' : [5, 10],\n",
    "\t'max_leaf_nodes' : [5, 10, 15, 20]\n",
    "\t}\n",
    "\n",
    "scores = ['accuracy', 'precision', ] # 'recall', 'f1', 'roc_auc'\n",
    "\n",
    "grid_search(rf_cl, params, scores, x_train , y_train)"
   ]
  },
  {
   "cell_type": "code",
   "execution_count": 18,
   "metadata": {},
   "outputs": [
    {
     "name": "stdout",
     "output_type": "stream",
     "text": [
      "GridSearchCV 최고 accuracy 정확도 수치:0.6860\n",
      "GridSearchCV 최적 하이퍼 파라미터: {'max_depth': 15, 'max_leaf_nodes': 15, 'n_estimators': 100}\n",
      "GridSearchCV 최고 precision 정확도 수치:0.9050\n",
      "GridSearchCV 최적 하이퍼 파라미터: {'max_depth': 10, 'max_leaf_nodes': 15, 'n_estimators': 350}\n"
     ]
    }
   ],
   "source": [
    "params = {\n",
    "\t'n_estimators' : [100, 300, 350],\n",
    "    'max_depth' : [10, 15],\n",
    "\t'max_leaf_nodes' : [5, 10, 15, 20]\n",
    "\t}\n",
    "\n",
    "scores = ['accuracy', 'precision', ] # 'recall', 'f1', 'roc_auc'\n",
    "\n",
    "grid_search(rf_cl, params, scores, x_train , y_train)"
   ]
  },
  {
   "cell_type": "code",
   "execution_count": 19,
   "metadata": {},
   "outputs": [
    {
     "name": "stdout",
     "output_type": "stream",
     "text": [
      "GridSearchCV 최고 accuracy 정확도 수치:0.6872\n",
      "GridSearchCV 최적 하이퍼 파라미터: {'max_depth': 15, 'max_leaf_nodes': 10, 'n_estimators': 50}\n"
     ]
    }
   ],
   "source": [
    "params = {\n",
    "\t'n_estimators' : [50, 100, 300],\n",
    "    'max_depth' : [10, 15],\n",
    "\t'max_leaf_nodes' : [10, 15, 20]\n",
    "\t}\n",
    "\n",
    "scores = ['accuracy',  ] # 'precision', 'recall', 'f1', 'roc_auc'\n",
    "\n",
    "grid_search(rf_cl, params, scores, x_train , y_train)"
   ]
  },
  {
   "cell_type": "code",
   "execution_count": 20,
   "metadata": {},
   "outputs": [
    {
     "name": "stdout",
     "output_type": "stream",
     "text": [
      "GridSearchCV 최고 accuracy 정확도 수치:0.6860\n",
      "GridSearchCV 최적 하이퍼 파라미터: {'max_depth': 15, 'max_leaf_nodes': 10, 'n_estimators': 100}\n"
     ]
    }
   ],
   "source": [
    "params = {\n",
    "\t'n_estimators' : [100, 150, 300],\n",
    "    'max_depth' : [15, 20],\n",
    "\t'max_leaf_nodes' : [10, 15, 20]\n",
    "\t}\n",
    "\n",
    "scores = ['accuracy' ] # , 'precision', 'recall', 'f1', 'roc_auc'\n",
    "\n",
    "grid_search(rf_cl, params, scores, x_train , y_train)"
   ]
  },
  {
   "cell_type": "code",
   "execution_count": 21,
   "metadata": {},
   "outputs": [
    {
     "name": "stdout",
     "output_type": "stream",
     "text": [
      "GridSearchCV 최고 accuracy 정확도 수치:0.6870\n",
      "GridSearchCV 최적 하이퍼 파라미터: {'max_depth': 25, 'max_leaf_nodes': 20, 'n_estimators': 100}\n"
     ]
    }
   ],
   "source": [
    "params = {\n",
    "\t'n_estimators' : [100, 150, 170],\n",
    "    'max_depth' : [15, 20, 25],\n",
    "\t'max_leaf_nodes' : [10, 15, 20, 25]\n",
    "\t}\n",
    "\n",
    "scores = ['accuracy' ] # , 'precision', 'recall', 'f1', 'roc_auc'\n",
    "\n",
    "grid_search(rf_cl, params, scores, x_train , y_train)"
   ]
  },
  {
   "cell_type": "code",
   "execution_count": 22,
   "metadata": {},
   "outputs": [
    {
     "name": "stdout",
     "output_type": "stream",
     "text": [
      "GridSearchCV 최고 accuracy 정확도 수치:0.6872\n",
      "GridSearchCV 최적 하이퍼 파라미터: {'max_depth': 10, 'max_leaf_nodes': 10, 'n_estimators': 100}\n"
     ]
    }
   ],
   "source": [
    "params = {\n",
    "\t'n_estimators' : [100, 150, 170],\n",
    "    'max_depth' : [10, 15, 20],\n",
    "\t'max_leaf_nodes' : [10, 15, 20]\n",
    "\t}\n",
    "\n",
    "scores = ['accuracy' ] # , 'precision', 'recall', 'f1', 'roc_auc'\n",
    "\n",
    "grid_search(rf_cl, params, scores, x_train , y_train)"
   ]
  },
  {
   "cell_type": "code",
   "execution_count": 23,
   "metadata": {},
   "outputs": [
    {
     "name": "stdout",
     "output_type": "stream",
     "text": [
      "GridSearchCV 최고 accuracy 정확도 수치:0.6866\n",
      "GridSearchCV 최적 하이퍼 파라미터: {'max_depth': 15, 'max_leaf_nodes': 17, 'n_estimators': 150}\n"
     ]
    }
   ],
   "source": [
    "params = {\n",
    "\t'n_estimators' : [100, 150, 170],\n",
    "    'max_depth' : [10, 15, 17],\n",
    "\t'max_leaf_nodes' : [15, 17, 20]\n",
    "\t} \n",
    "\n",
    "scores = ['accuracy' ] # , 'precision', 'recall', 'f1', 'roc_auc'\n",
    "\n",
    "grid_search(rf_cl, params, scores, x_train , y_train)"
   ]
  },
  {
   "cell_type": "code",
   "execution_count": 24,
   "metadata": {},
   "outputs": [
    {
     "name": "stdout",
     "output_type": "stream",
     "text": [
      "GridSearchCV 최고 accuracy 정확도 수치:0.6852\n",
      "GridSearchCV 최적 하이퍼 파라미터: {'max_depth': 20, 'max_leaf_nodes': 17, 'n_estimators': 80}\n"
     ]
    }
   ],
   "source": [
    "params = {\n",
    "\t'n_estimators' : [80, 100],\n",
    "    'max_depth' : [15, 17, 20],\n",
    "\t'max_leaf_nodes' : [15, 17, 20]\n",
    "\t} \n",
    "\n",
    "scores = ['accuracy' ] # , 'precision', 'recall', 'f1', 'roc_auc'\n",
    "\n",
    "grid_search(rf_cl, params, scores, x_train , y_train)"
   ]
  },
  {
   "cell_type": "markdown",
   "metadata": {},
   "source": [
    "### Decision Tree"
   ]
  },
  {
   "cell_type": "code",
   "execution_count": 25,
   "metadata": {},
   "outputs": [],
   "source": [
    "params = {\n",
    "    'criterion':['gini','entropy'], \n",
    "    'max_depth':[None,2,3,4,5,6], \n",
    "    'max_leaf_nodes':[None,2,3,4,5,6,7], \n",
    "    'min_samples_split':[2,3,4,5,6], \n",
    "    'min_samples_leaf':[1,2,3], \n",
    "    'max_features':[None,'sqrt','log2',3,4,5]\n",
    "    }"
   ]
  },
  {
   "cell_type": "markdown",
   "metadata": {},
   "source": [
    "## Test"
   ]
  },
  {
   "cell_type": "code",
   "execution_count": 26,
   "metadata": {},
   "outputs": [],
   "source": [
    "x_test = pd.read_csv('https://raw.githubusercontent.com/Datamanim/datarepo/main/shipping/X_test.csv').drop('ID', axis=1)\n",
    "y_test = pd.read_csv('https://raw.githubusercontent.com/Datamanim/datarepo/main/shipping/y_test.csv').drop('ID', axis=1)\n"
   ]
  },
  {
   "cell_type": "code",
   "execution_count": 27,
   "metadata": {},
   "outputs": [
    {
     "data": {
      "text/plain": [
       "Customer_care_calls\n",
       "4     1442\n",
       "3     1298\n",
       "5      925\n",
       "6      409\n",
       "2      234\n",
       "$7      93\n",
       "Name: count, dtype: int64"
      ]
     },
     "execution_count": 27,
     "metadata": {},
     "output_type": "execute_result"
    }
   ],
   "source": [
    "x_test['Customer_care_calls'].value_counts()"
   ]
  },
  {
   "cell_type": "code",
   "execution_count": 28,
   "metadata": {},
   "outputs": [
    {
     "data": {
      "text/html": [
       "<div>\n",
       "<style scoped>\n",
       "    .dataframe tbody tr th:only-of-type {\n",
       "        vertical-align: middle;\n",
       "    }\n",
       "\n",
       "    .dataframe tbody tr th {\n",
       "        vertical-align: top;\n",
       "    }\n",
       "\n",
       "    .dataframe thead th {\n",
       "        text-align: right;\n",
       "    }\n",
       "</style>\n",
       "<table border=\"1\" class=\"dataframe\">\n",
       "  <thead>\n",
       "    <tr style=\"text-align: right;\">\n",
       "      <th></th>\n",
       "      <th>Warehouse_block</th>\n",
       "      <th>Mode_of_Shipment</th>\n",
       "      <th>Customer_care_calls</th>\n",
       "      <th>Customer_rating</th>\n",
       "      <th>Cost_of_the_Product</th>\n",
       "      <th>Prior_purchases</th>\n",
       "      <th>Product_importance</th>\n",
       "      <th>Gender</th>\n",
       "      <th>Discount_offered</th>\n",
       "      <th>Weight_in_gms</th>\n",
       "    </tr>\n",
       "  </thead>\n",
       "  <tbody>\n",
       "    <tr>\n",
       "      <th>0</th>\n",
       "      <td>3</td>\n",
       "      <td>2</td>\n",
       "      <td>5</td>\n",
       "      <td>2</td>\n",
       "      <td>259</td>\n",
       "      <td>5</td>\n",
       "      <td>1</td>\n",
       "      <td>0</td>\n",
       "      <td>7</td>\n",
       "      <td>1032</td>\n",
       "    </tr>\n",
       "    <tr>\n",
       "      <th>1</th>\n",
       "      <td>4</td>\n",
       "      <td>2</td>\n",
       "      <td>3</td>\n",
       "      <td>5</td>\n",
       "      <td>133</td>\n",
       "      <td>3</td>\n",
       "      <td>2</td>\n",
       "      <td>0</td>\n",
       "      <td>4</td>\n",
       "      <td>5902</td>\n",
       "    </tr>\n",
       "    <tr>\n",
       "      <th>2</th>\n",
       "      <td>4</td>\n",
       "      <td>1</td>\n",
       "      <td>3</td>\n",
       "      <td>4</td>\n",
       "      <td>191</td>\n",
       "      <td>5</td>\n",
       "      <td>2</td>\n",
       "      <td>0</td>\n",
       "      <td>4</td>\n",
       "      <td>4243</td>\n",
       "    </tr>\n",
       "    <tr>\n",
       "      <th>3</th>\n",
       "      <td>3</td>\n",
       "      <td>2</td>\n",
       "      <td>4</td>\n",
       "      <td>2</td>\n",
       "      <td>221</td>\n",
       "      <td>3</td>\n",
       "      <td>1</td>\n",
       "      <td>1</td>\n",
       "      <td>10</td>\n",
       "      <td>4126</td>\n",
       "    </tr>\n",
       "    <tr>\n",
       "      <th>4</th>\n",
       "      <td>3</td>\n",
       "      <td>0</td>\n",
       "      <td>4</td>\n",
       "      <td>5</td>\n",
       "      <td>230</td>\n",
       "      <td>2</td>\n",
       "      <td>1</td>\n",
       "      <td>0</td>\n",
       "      <td>38</td>\n",
       "      <td>2890</td>\n",
       "    </tr>\n",
       "  </tbody>\n",
       "</table>\n",
       "</div>"
      ],
      "text/plain": [
       "   Warehouse_block  Mode_of_Shipment  Customer_care_calls  Customer_rating  \\\n",
       "0                3                 2                    5                2   \n",
       "1                4                 2                    3                5   \n",
       "2                4                 1                    3                4   \n",
       "3                3                 2                    4                2   \n",
       "4                3                 0                    4                5   \n",
       "\n",
       "   Cost_of_the_Product  Prior_purchases  Product_importance  Gender  \\\n",
       "0                  259                5                   1       0   \n",
       "1                  133                3                   2       0   \n",
       "2                  191                5                   2       0   \n",
       "3                  221                3                   1       1   \n",
       "4                  230                2                   1       0   \n",
       "\n",
       "   Discount_offered  Weight_in_gms  \n",
       "0                 7           1032  \n",
       "1                 4           5902  \n",
       "2                 4           4243  \n",
       "3                10           4126  \n",
       "4                38           2890  "
      ]
     },
     "execution_count": 28,
     "metadata": {},
     "output_type": "execute_result"
    }
   ],
   "source": [
    "lb_encoding(x_test, col_lst)\n",
    "x_test.loc[x_test['Customer_care_calls'] == '$7'] = 7\n",
    "x_test['Customer_care_calls'] = x_test['Customer_care_calls'].astype('int')\n",
    "x_test.head()\n"
   ]
  },
  {
   "cell_type": "code",
   "execution_count": 29,
   "metadata": {},
   "outputs": [
    {
     "name": "stdout",
     "output_type": "stream",
     "text": [
      "RandomForestClassifier() Accuracy : 0.666, Precision : 0.7809, Recall : 0.612, F1 Score : 0.6862\n"
     ]
    }
   ],
   "source": [
    "rf_cl = RandomForestClassifier()\n",
    "model_lst = [rf_cl]\n",
    "model_predict(model_lst, x_train, x_test, y_train, y_test)"
   ]
  },
  {
   "cell_type": "code",
   "execution_count": 50,
   "metadata": {},
   "outputs": [
    {
     "name": "stdout",
     "output_type": "stream",
     "text": [
      "RandomForestClassifier(max_depth=15, max_leaf_nodes=10, n_estimators=50) Accuracy : 0.6778, Precision : 0.9021, Recall : 0.516, F1 Score : 0.6565\n"
     ]
    }
   ],
   "source": [
    "# GridSearchCV 최적 하이퍼 파라미터: {'max_depth': 10, 'max_leaf_nodes': 10, 'n_estimators': 300}\n",
    "rf_cl = RandomForestClassifier(max_depth=15, max_leaf_nodes=10, n_estimators=50)\n",
    "model_lst = [rf_cl]\n",
    "model_predict(model_lst, x_train, x_test, y_train, y_test)"
   ]
  },
  {
   "cell_type": "code",
   "execution_count": 51,
   "metadata": {},
   "outputs": [
    {
     "name": "stdout",
     "output_type": "stream",
     "text": [
      "RandomForestClassifier(max_depth=10, max_leaf_nodes=10) Accuracy : 0.6723, Precision : 0.8503, Recall : 0.5472, F1 Score : 0.6659\n"
     ]
    }
   ],
   "source": [
    "rf_cl = RandomForestClassifier(max_depth=10, max_leaf_nodes=10, n_estimators=100)\n",
    "model_lst = [rf_cl]\n",
    "model_predict(model_lst, x_train, x_test, y_train, y_test)"
   ]
  },
  {
   "cell_type": "code",
   "execution_count": 49,
   "metadata": {},
   "outputs": [
    {
     "name": "stdout",
     "output_type": "stream",
     "text": [
      "RandomForestClassifier(max_depth=25, max_leaf_nodes=20) Accuracy : 0.678, Precision : 0.8843, Recall : 0.5297, F1 Score : 0.6625\n"
     ]
    }
   ],
   "source": [
    "rf_cl = RandomForestClassifier(max_depth=25, max_leaf_nodes=20, n_estimators=100)\n",
    "model_lst = [rf_cl]\n",
    "model_predict(model_lst, x_train, x_test, y_train, y_test)"
   ]
  },
  {
   "cell_type": "code",
   "execution_count": null,
   "metadata": {},
   "outputs": [],
   "source": []
  }
 ],
 "metadata": {
  "kernelspec": {
   "display_name": "new_env",
   "language": "python",
   "name": "python3"
  },
  "language_info": {
   "codemirror_mode": {
    "name": "ipython",
    "version": 3
   },
   "file_extension": ".py",
   "mimetype": "text/x-python",
   "name": "python",
   "nbconvert_exporter": "python",
   "pygments_lexer": "ipython3",
   "version": "3.10.14"
  }
 },
 "nbformat": 4,
 "nbformat_minor": 2
}
