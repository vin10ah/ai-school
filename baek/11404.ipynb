{
 "cells": [
  {
   "cell_type": "code",
   "execution_count": 2,
   "metadata": {},
   "outputs": [
    {
     "name": "stdout",
     "output_type": "stream",
     "text": [
      "[0, 2, 3, 2, 5]\n",
      "[12, 0, 15, 2, 5]\n",
      "[8, 9, 0, 2, 5]\n",
      "[10, 7, 13, 0, 3]\n",
      "[7, 4, 10, 6, 0]\n"
     ]
    }
   ],
   "source": [
    "f = open('11404.txt')\n",
    "input = f.readline\n",
    "\n",
    "N = int(input())\n",
    "M = int(input())\n",
    "\n",
    "graph = []\n",
    "\n",
    "for _ in range(N):\n",
    "\tgraph.append([float('inf')]*N)\n",
    "\n",
    "for _ in range(M):\n",
    "\ta, b, c = map(int, input().split())\n",
    "\tgraph[a-1][b-1] = c\n",
    "\n",
    "for i in range(N):\n",
    "\tgraph[i][i] = 0\n",
    "\n",
    "for k in range(N): \n",
    "\tfor i in range(N):\n",
    "\t\tfor j in range(N):\n",
    "\t\t\tif graph[i][j] > graph[i][k] + graph[k][j]:\n",
    "\t\t\t\tgraph[i][j] = graph[i][k] + graph[k][j]\n",
    "\n",
    "\n",
    "print(*graph, sep='\\n')\n",
    "\n",
    "f. close()"
   ]
  },
  {
   "cell_type": "code",
   "execution_count": null,
   "metadata": {},
   "outputs": [],
   "source": [
    "def mul(*a):\n",
    "\tresult = 1\n",
    "\tfor i in a:\n",
    "\t\tresult *= i\n",
    "\treturn result"
   ]
  },
  {
   "cell_type": "code",
   "execution_count": null,
   "metadata": {},
   "outputs": [],
   "source": []
  },
  {
   "cell_type": "code",
   "execution_count": null,
   "metadata": {},
   "outputs": [],
   "source": []
  }
 ],
 "metadata": {
  "kernelspec": {
   "display_name": "new_env",
   "language": "python",
   "name": "python3"
  },
  "language_info": {
   "codemirror_mode": {
    "name": "ipython",
    "version": 3
   },
   "file_extension": ".py",
   "mimetype": "text/x-python",
   "name": "python",
   "nbconvert_exporter": "python",
   "pygments_lexer": "ipython3",
   "version": "3.10.14"
  }
 },
 "nbformat": 4,
 "nbformat_minor": 2
}
