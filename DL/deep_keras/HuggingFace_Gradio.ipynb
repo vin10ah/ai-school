{
  "cells": [
    {
      "cell_type": "markdown",
      "metadata": {
        "id": "E6yybJamtTAy"
      },
      "source": [
        "#### 1. Gradio 설치"
      ]
    },
    {
      "cell_type": "code",
      "execution_count": 1,
      "metadata": {
        "id": "bqsPgIgYtGYB"
      },
      "outputs": [
        {
          "name": "stdout",
          "output_type": "stream",
          "text": [
            "Collecting gradio\n",
            "  Downloading gradio-4.41.0-py3-none-any.whl.metadata (15 kB)\n",
            "Collecting aiofiles<24.0,>=22.0 (from gradio)\n",
            "  Downloading aiofiles-23.2.1-py3-none-any.whl.metadata (9.7 kB)\n",
            "Collecting anyio<5.0,>=3.0 (from gradio)\n",
            "  Downloading anyio-4.4.0-py3-none-any.whl.metadata (4.6 kB)\n",
            "Collecting fastapi (from gradio)\n",
            "  Downloading fastapi-0.112.1-py3-none-any.whl.metadata (27 kB)\n",
            "Collecting ffmpy (from gradio)\n",
            "  Downloading ffmpy-0.4.0-py3-none-any.whl.metadata (2.9 kB)\n",
            "Collecting gradio-client==1.3.0 (from gradio)\n",
            "  Downloading gradio_client-1.3.0-py3-none-any.whl.metadata (7.1 kB)\n",
            "Collecting httpx>=0.24.1 (from gradio)\n",
            "  Downloading httpx-0.27.0-py3-none-any.whl.metadata (7.2 kB)\n",
            "Collecting huggingface-hub>=0.19.3 (from gradio)\n",
            "  Downloading huggingface_hub-0.24.6-py3-none-any.whl.metadata (13 kB)\n",
            "Collecting importlib-resources<7.0,>=1.3 (from gradio)\n",
            "  Downloading importlib_resources-6.4.3-py3-none-any.whl.metadata (3.9 kB)\n",
            "Collecting jinja2<4.0 (from gradio)\n",
            "  Downloading jinja2-3.1.4-py3-none-any.whl.metadata (2.6 kB)\n",
            "Requirement already satisfied: markupsafe~=2.0 in /Users/vin_ah/miniconda3/envs/new_env/lib/python3.10/site-packages (from gradio) (2.1.5)\n",
            "Requirement already satisfied: matplotlib~=3.0 in /Users/vin_ah/miniconda3/envs/new_env/lib/python3.10/site-packages (from gradio) (3.9.0)\n",
            "Requirement already satisfied: numpy<3.0,>=1.0 in /Users/vin_ah/miniconda3/envs/new_env/lib/python3.10/site-packages (from gradio) (1.26.4)\n",
            "Collecting orjson~=3.0 (from gradio)\n",
            "  Downloading orjson-3.10.7-cp310-cp310-macosx_10_15_x86_64.macosx_11_0_arm64.macosx_10_15_universal2.whl.metadata (50 kB)\n",
            "Requirement already satisfied: packaging in /Users/vin_ah/miniconda3/envs/new_env/lib/python3.10/site-packages (from gradio) (24.0)\n",
            "Requirement already satisfied: pandas<3.0,>=1.0 in /Users/vin_ah/miniconda3/envs/new_env/lib/python3.10/site-packages (from gradio) (2.2.2)\n",
            "Requirement already satisfied: pillow<11.0,>=8.0 in /Users/vin_ah/miniconda3/envs/new_env/lib/python3.10/site-packages (from gradio) (10.3.0)\n",
            "Collecting pydantic>=2.0 (from gradio)\n",
            "  Downloading pydantic-2.8.2-py3-none-any.whl.metadata (125 kB)\n",
            "Collecting pydub (from gradio)\n",
            "  Downloading pydub-0.25.1-py2.py3-none-any.whl.metadata (1.4 kB)\n",
            "Collecting python-multipart>=0.0.9 (from gradio)\n",
            "  Downloading python_multipart-0.0.9-py3-none-any.whl.metadata (2.5 kB)\n",
            "Collecting pyyaml<7.0,>=5.0 (from gradio)\n",
            "  Downloading PyYAML-6.0.2-cp310-cp310-macosx_11_0_arm64.whl.metadata (2.1 kB)\n",
            "Collecting ruff>=0.2.2 (from gradio)\n",
            "  Downloading ruff-0.6.1-py3-none-macosx_11_0_arm64.whl.metadata (25 kB)\n",
            "Collecting semantic-version~=2.0 (from gradio)\n",
            "  Downloading semantic_version-2.10.0-py2.py3-none-any.whl.metadata (9.7 kB)\n",
            "Collecting tomlkit==0.12.0 (from gradio)\n",
            "  Downloading tomlkit-0.12.0-py3-none-any.whl.metadata (2.7 kB)\n",
            "Collecting typer<1.0,>=0.12 (from gradio)\n",
            "  Downloading typer-0.12.4-py3-none-any.whl.metadata (15 kB)\n",
            "Requirement already satisfied: typing-extensions~=4.0 in /Users/vin_ah/miniconda3/envs/new_env/lib/python3.10/site-packages (from gradio) (4.12.1)\n",
            "Requirement already satisfied: urllib3~=2.0 in /Users/vin_ah/miniconda3/envs/new_env/lib/python3.10/site-packages (from gradio) (2.2.2)\n",
            "Collecting uvicorn>=0.14.0 (from gradio)\n",
            "  Downloading uvicorn-0.30.6-py3-none-any.whl.metadata (6.6 kB)\n",
            "Collecting fsspec (from gradio-client==1.3.0->gradio)\n",
            "  Downloading fsspec-2024.6.1-py3-none-any.whl.metadata (11 kB)\n",
            "Collecting websockets<13.0,>=10.0 (from gradio-client==1.3.0->gradio)\n",
            "  Downloading websockets-12.0-cp310-cp310-macosx_11_0_arm64.whl.metadata (6.6 kB)\n",
            "Requirement already satisfied: idna>=2.8 in /Users/vin_ah/miniconda3/envs/new_env/lib/python3.10/site-packages (from anyio<5.0,>=3.0->gradio) (3.7)\n",
            "Requirement already satisfied: sniffio>=1.1 in /Users/vin_ah/miniconda3/envs/new_env/lib/python3.10/site-packages (from anyio<5.0,>=3.0->gradio) (1.3.1)\n",
            "Requirement already satisfied: exceptiongroup>=1.0.2 in /Users/vin_ah/miniconda3/envs/new_env/lib/python3.10/site-packages (from anyio<5.0,>=3.0->gradio) (1.2.0)\n",
            "Requirement already satisfied: certifi in /Users/vin_ah/miniconda3/envs/new_env/lib/python3.10/site-packages (from httpx>=0.24.1->gradio) (2024.6.2)\n",
            "Collecting httpcore==1.* (from httpx>=0.24.1->gradio)\n",
            "  Downloading httpcore-1.0.5-py3-none-any.whl.metadata (20 kB)\n",
            "Requirement already satisfied: h11<0.15,>=0.13 in /Users/vin_ah/miniconda3/envs/new_env/lib/python3.10/site-packages (from httpcore==1.*->httpx>=0.24.1->gradio) (0.14.0)\n",
            "Requirement already satisfied: filelock in /Users/vin_ah/miniconda3/envs/new_env/lib/python3.10/site-packages (from huggingface-hub>=0.19.3->gradio) (3.15.4)\n",
            "Requirement already satisfied: requests in /Users/vin_ah/miniconda3/envs/new_env/lib/python3.10/site-packages (from huggingface-hub>=0.19.3->gradio) (2.32.3)\n",
            "Requirement already satisfied: tqdm>=4.42.1 in /Users/vin_ah/miniconda3/envs/new_env/lib/python3.10/site-packages (from huggingface-hub>=0.19.3->gradio) (4.66.4)\n",
            "Requirement already satisfied: contourpy>=1.0.1 in /Users/vin_ah/miniconda3/envs/new_env/lib/python3.10/site-packages (from matplotlib~=3.0->gradio) (1.2.1)\n",
            "Requirement already satisfied: cycler>=0.10 in /Users/vin_ah/miniconda3/envs/new_env/lib/python3.10/site-packages (from matplotlib~=3.0->gradio) (0.12.1)\n",
            "Requirement already satisfied: fonttools>=4.22.0 in /Users/vin_ah/miniconda3/envs/new_env/lib/python3.10/site-packages (from matplotlib~=3.0->gradio) (4.53.0)\n",
            "Requirement already satisfied: kiwisolver>=1.3.1 in /Users/vin_ah/miniconda3/envs/new_env/lib/python3.10/site-packages (from matplotlib~=3.0->gradio) (1.4.5)\n",
            "Requirement already satisfied: pyparsing>=2.3.1 in /Users/vin_ah/miniconda3/envs/new_env/lib/python3.10/site-packages (from matplotlib~=3.0->gradio) (3.1.2)\n",
            "Requirement already satisfied: python-dateutil>=2.7 in /Users/vin_ah/miniconda3/envs/new_env/lib/python3.10/site-packages (from matplotlib~=3.0->gradio) (2.9.0.post0)\n",
            "Requirement already satisfied: pytz>=2020.1 in /Users/vin_ah/miniconda3/envs/new_env/lib/python3.10/site-packages (from pandas<3.0,>=1.0->gradio) (2024.1)\n",
            "Requirement already satisfied: tzdata>=2022.7 in /Users/vin_ah/miniconda3/envs/new_env/lib/python3.10/site-packages (from pandas<3.0,>=1.0->gradio) (2023.3)\n",
            "Collecting annotated-types>=0.4.0 (from pydantic>=2.0->gradio)\n",
            "  Downloading annotated_types-0.7.0-py3-none-any.whl.metadata (15 kB)\n",
            "Collecting pydantic-core==2.20.1 (from pydantic>=2.0->gradio)\n",
            "  Downloading pydantic_core-2.20.1-cp310-cp310-macosx_11_0_arm64.whl.metadata (6.6 kB)\n",
            "Requirement already satisfied: click>=8.0.0 in /Users/vin_ah/miniconda3/envs/new_env/lib/python3.10/site-packages (from typer<1.0,>=0.12->gradio) (8.1.7)\n",
            "Collecting shellingham>=1.3.0 (from typer<1.0,>=0.12->gradio)\n",
            "  Downloading shellingham-1.5.4-py2.py3-none-any.whl.metadata (3.5 kB)\n",
            "Requirement already satisfied: rich>=10.11.0 in /Users/vin_ah/miniconda3/envs/new_env/lib/python3.10/site-packages (from typer<1.0,>=0.12->gradio) (13.7.1)\n",
            "Collecting starlette<0.39.0,>=0.37.2 (from fastapi->gradio)\n",
            "  Downloading starlette-0.38.2-py3-none-any.whl.metadata (5.9 kB)\n",
            "Requirement already satisfied: six>=1.5 in /Users/vin_ah/miniconda3/envs/new_env/lib/python3.10/site-packages (from python-dateutil>=2.7->matplotlib~=3.0->gradio) (1.16.0)\n",
            "Requirement already satisfied: markdown-it-py>=2.2.0 in /Users/vin_ah/miniconda3/envs/new_env/lib/python3.10/site-packages (from rich>=10.11.0->typer<1.0,>=0.12->gradio) (3.0.0)\n",
            "Requirement already satisfied: pygments<3.0.0,>=2.13.0 in /Users/vin_ah/miniconda3/envs/new_env/lib/python3.10/site-packages (from rich>=10.11.0->typer<1.0,>=0.12->gradio) (2.18.0)\n",
            "Requirement already satisfied: charset-normalizer<4,>=2 in /Users/vin_ah/miniconda3/envs/new_env/lib/python3.10/site-packages (from requests->huggingface-hub>=0.19.3->gradio) (3.3.2)\n",
            "Requirement already satisfied: mdurl~=0.1 in /Users/vin_ah/miniconda3/envs/new_env/lib/python3.10/site-packages (from markdown-it-py>=2.2.0->rich>=10.11.0->typer<1.0,>=0.12->gradio) (0.1.2)\n",
            "Downloading gradio-4.41.0-py3-none-any.whl (12.6 MB)\n",
            "\u001b[2K   \u001b[90m━━━━━━━━━━━━━━━━━━━━━━━━━━━━━━━━━━━━━━━━\u001b[0m \u001b[32m12.6/12.6 MB\u001b[0m \u001b[31m18.3 MB/s\u001b[0m eta \u001b[36m0:00:00\u001b[0ma \u001b[36m0:00:01\u001b[0m\n",
            "\u001b[?25hDownloading gradio_client-1.3.0-py3-none-any.whl (318 kB)\n",
            "Downloading tomlkit-0.12.0-py3-none-any.whl (37 kB)\n",
            "Downloading aiofiles-23.2.1-py3-none-any.whl (15 kB)\n",
            "Downloading anyio-4.4.0-py3-none-any.whl (86 kB)\n",
            "Downloading httpx-0.27.0-py3-none-any.whl (75 kB)\n",
            "Downloading httpcore-1.0.5-py3-none-any.whl (77 kB)\n",
            "Downloading huggingface_hub-0.24.6-py3-none-any.whl (417 kB)\n",
            "Downloading importlib_resources-6.4.3-py3-none-any.whl (35 kB)\n",
            "Downloading jinja2-3.1.4-py3-none-any.whl (133 kB)\n",
            "Downloading orjson-3.10.7-cp310-cp310-macosx_10_15_x86_64.macosx_11_0_arm64.macosx_10_15_universal2.whl (251 kB)\n",
            "Downloading pydantic-2.8.2-py3-none-any.whl (423 kB)\n",
            "Downloading pydantic_core-2.20.1-cp310-cp310-macosx_11_0_arm64.whl (1.8 MB)\n",
            "\u001b[2K   \u001b[90m━━━━━━━━━━━━━━━━━━━━━━━━━━━━━━━━━━━━━━━━\u001b[0m \u001b[32m1.8/1.8 MB\u001b[0m \u001b[31m21.5 MB/s\u001b[0m eta \u001b[36m0:00:00\u001b[0m\n",
            "\u001b[?25hDownloading python_multipart-0.0.9-py3-none-any.whl (22 kB)\n",
            "Downloading PyYAML-6.0.2-cp310-cp310-macosx_11_0_arm64.whl (171 kB)\n",
            "Downloading ruff-0.6.1-py3-none-macosx_11_0_arm64.whl (8.3 MB)\n",
            "\u001b[2K   \u001b[90m━━━━━━━━━━━━━━━━━━━━━━━━━━━━━━━━━━━━━━━━\u001b[0m \u001b[32m8.3/8.3 MB\u001b[0m \u001b[31m19.9 MB/s\u001b[0m eta \u001b[36m0:00:00\u001b[0m00:01\u001b[0m00:01\u001b[0m\n",
            "\u001b[?25hDownloading semantic_version-2.10.0-py2.py3-none-any.whl (15 kB)\n",
            "Downloading typer-0.12.4-py3-none-any.whl (47 kB)\n",
            "Downloading uvicorn-0.30.6-py3-none-any.whl (62 kB)\n",
            "Downloading fastapi-0.112.1-py3-none-any.whl (93 kB)\n",
            "Downloading ffmpy-0.4.0-py3-none-any.whl (5.8 kB)\n",
            "Downloading pydub-0.25.1-py2.py3-none-any.whl (32 kB)\n",
            "Downloading annotated_types-0.7.0-py3-none-any.whl (13 kB)\n",
            "Downloading fsspec-2024.6.1-py3-none-any.whl (177 kB)\n",
            "Downloading shellingham-1.5.4-py2.py3-none-any.whl (9.8 kB)\n",
            "Downloading starlette-0.38.2-py3-none-any.whl (72 kB)\n",
            "Downloading websockets-12.0-cp310-cp310-macosx_11_0_arm64.whl (121 kB)\n",
            "Installing collected packages: pydub, websockets, uvicorn, tomlkit, shellingham, semantic-version, ruff, pyyaml, python-multipart, pydantic-core, orjson, jinja2, importlib-resources, httpcore, fsspec, ffmpy, anyio, annotated-types, aiofiles, starlette, pydantic, huggingface-hub, httpx, typer, gradio-client, fastapi, gradio\n",
            "Successfully installed aiofiles-23.2.1 annotated-types-0.7.0 anyio-4.4.0 fastapi-0.112.1 ffmpy-0.4.0 fsspec-2024.6.1 gradio-4.41.0 gradio-client-1.3.0 httpcore-1.0.5 httpx-0.27.0 huggingface-hub-0.24.6 importlib-resources-6.4.3 jinja2-3.1.4 orjson-3.10.7 pydantic-2.8.2 pydantic-core-2.20.1 pydub-0.25.1 python-multipart-0.0.9 pyyaml-6.0.2 ruff-0.6.1 semantic-version-2.10.0 shellingham-1.5.4 starlette-0.38.2 tomlkit-0.12.0 typer-0.12.4 uvicorn-0.30.6 websockets-12.0\n"
          ]
        }
      ],
      "source": [
        "!pip install gradio"
      ]
    },
    {
      "cell_type": "markdown",
      "metadata": {
        "id": "ZwuTb1POtYjW"
      },
      "source": [
        "#### 2. Hello, Gradio"
      ]
    },
    {
      "cell_type": "code",
      "execution_count": 2,
      "metadata": {
        "id": "7tdKM7C8tDx2"
      },
      "outputs": [
        {
          "name": "stderr",
          "output_type": "stream",
          "text": [
            "/Users/vin_ah/miniconda3/envs/new_env/lib/python3.10/site-packages/tqdm/auto.py:21: TqdmWarning: IProgress not found. Please update jupyter and ipywidgets. See https://ipywidgets.readthedocs.io/en/stable/user_install.html\n",
            "  from .autonotebook import tqdm as notebook_tqdm\n"
          ]
        },
        {
          "name": "stdout",
          "output_type": "stream",
          "text": [
            "Running on local URL:  http://127.0.0.1:7860\n",
            "\n",
            "To create a public link, set `share=True` in `launch()`.\n"
          ]
        },
        {
          "data": {
            "text/html": [
              "<div><iframe src=\"http://127.0.0.1:7860/\" width=\"100%\" height=\"500\" allow=\"autoplay; camera; microphone; clipboard-read; clipboard-write;\" frameborder=\"0\" allowfullscreen></iframe></div>"
            ],
            "text/plain": [
              "<IPython.core.display.HTML object>"
            ]
          },
          "metadata": {},
          "output_type": "display_data"
        },
        {
          "data": {
            "text/plain": []
          },
          "execution_count": 2,
          "metadata": {},
          "output_type": "execute_result"
        }
      ],
      "source": [
        "import gradio as gr\n",
        "\n",
        "def greet(name):\n",
        "    return \"Hello \" + name + \"!\"\n",
        "\n",
        "demo = gr.Interface(fn=greet, inputs=\"text\", outputs=\"text\")\n",
        "\n",
        "demo.launch()"
      ]
    },
    {
      "cell_type": "markdown",
      "metadata": {
        "id": "ic6c1Y12to6U"
      },
      "source": [
        "#### 3. [예제] 이미지 분류"
      ]
    },
    {
      "cell_type": "code",
      "execution_count": 3,
      "metadata": {
        "id": "y_zqiPtutkIU"
      },
      "outputs": [
        {
          "name": "stdout",
          "output_type": "stream",
          "text": [
            "Running on local URL:  http://127.0.0.1:7861\n",
            "\n",
            "To create a public link, set `share=True` in `launch()`.\n"
          ]
        },
        {
          "data": {
            "text/html": [
              "<div><iframe src=\"http://127.0.0.1:7861/\" width=\"100%\" height=\"500\" allow=\"autoplay; camera; microphone; clipboard-read; clipboard-write;\" frameborder=\"0\" allowfullscreen></iframe></div>"
            ],
            "text/plain": [
              "<IPython.core.display.HTML object>"
            ]
          },
          "metadata": {},
          "output_type": "display_data"
        },
        {
          "data": {
            "text/plain": []
          },
          "execution_count": 3,
          "metadata": {},
          "output_type": "execute_result"
        }
      ],
      "source": [
        "import gradio as gr\n",
        "\n",
        "def image_classifier(inp):\n",
        "    return {'cat': 0.3, 'dog': 0.7}\n",
        "\n",
        "demo = gr.Interface(fn=image_classifier, inputs=\"image\", outputs=\"label\")\n",
        "demo.launch()"
      ]
    },
    {
      "cell_type": "code",
      "execution_count": 5,
      "metadata": {
        "id": "62t6gVxotkLP"
      },
      "outputs": [
        {
          "name": "stdout",
          "output_type": "stream",
          "text": [
            "Collecting transformers\n",
            "  Downloading transformers-4.44.0-py3-none-any.whl.metadata (43 kB)\n",
            "Requirement already satisfied: filelock in /Users/vin_ah/miniconda3/envs/new_env/lib/python3.10/site-packages (from transformers) (3.15.4)\n",
            "Requirement already satisfied: huggingface-hub<1.0,>=0.23.2 in /Users/vin_ah/miniconda3/envs/new_env/lib/python3.10/site-packages (from transformers) (0.24.6)\n",
            "Requirement already satisfied: numpy>=1.17 in /Users/vin_ah/miniconda3/envs/new_env/lib/python3.10/site-packages (from transformers) (1.26.4)\n",
            "Requirement already satisfied: packaging>=20.0 in /Users/vin_ah/miniconda3/envs/new_env/lib/python3.10/site-packages (from transformers) (24.0)\n",
            "Requirement already satisfied: pyyaml>=5.1 in /Users/vin_ah/miniconda3/envs/new_env/lib/python3.10/site-packages (from transformers) (6.0.2)\n",
            "Requirement already satisfied: regex!=2019.12.17 in /Users/vin_ah/miniconda3/envs/new_env/lib/python3.10/site-packages (from transformers) (2024.5.15)\n",
            "Requirement already satisfied: requests in /Users/vin_ah/miniconda3/envs/new_env/lib/python3.10/site-packages (from transformers) (2.32.3)\n",
            "Collecting safetensors>=0.4.1 (from transformers)\n",
            "  Downloading safetensors-0.4.4-cp310-cp310-macosx_11_0_arm64.whl.metadata (3.8 kB)\n",
            "Collecting tokenizers<0.20,>=0.19 (from transformers)\n",
            "  Downloading tokenizers-0.19.1-cp310-cp310-macosx_11_0_arm64.whl.metadata (6.7 kB)\n",
            "Requirement already satisfied: tqdm>=4.27 in /Users/vin_ah/miniconda3/envs/new_env/lib/python3.10/site-packages (from transformers) (4.66.4)\n",
            "Requirement already satisfied: fsspec>=2023.5.0 in /Users/vin_ah/miniconda3/envs/new_env/lib/python3.10/site-packages (from huggingface-hub<1.0,>=0.23.2->transformers) (2024.6.1)\n",
            "Requirement already satisfied: typing-extensions>=3.7.4.3 in /Users/vin_ah/miniconda3/envs/new_env/lib/python3.10/site-packages (from huggingface-hub<1.0,>=0.23.2->transformers) (4.12.1)\n",
            "Requirement already satisfied: charset-normalizer<4,>=2 in /Users/vin_ah/miniconda3/envs/new_env/lib/python3.10/site-packages (from requests->transformers) (3.3.2)\n",
            "Requirement already satisfied: idna<4,>=2.5 in /Users/vin_ah/miniconda3/envs/new_env/lib/python3.10/site-packages (from requests->transformers) (3.7)\n",
            "Requirement already satisfied: urllib3<3,>=1.21.1 in /Users/vin_ah/miniconda3/envs/new_env/lib/python3.10/site-packages (from requests->transformers) (2.2.2)\n",
            "Requirement already satisfied: certifi>=2017.4.17 in /Users/vin_ah/miniconda3/envs/new_env/lib/python3.10/site-packages (from requests->transformers) (2024.6.2)\n",
            "Downloading transformers-4.44.0-py3-none-any.whl (9.5 MB)\n",
            "\u001b[2K   \u001b[90m━━━━━━━━━━━━━━━━━━━━━━━━━━━━━━━━━━━━━━━━\u001b[0m \u001b[32m9.5/9.5 MB\u001b[0m \u001b[31m10.3 MB/s\u001b[0m eta \u001b[36m0:00:00\u001b[0ma \u001b[36m0:00:01\u001b[0m\n",
            "\u001b[?25hDownloading safetensors-0.4.4-cp310-cp310-macosx_11_0_arm64.whl (381 kB)\n",
            "Downloading tokenizers-0.19.1-cp310-cp310-macosx_11_0_arm64.whl (2.4 MB)\n",
            "\u001b[2K   \u001b[90m━━━━━━━━━━━━━━━━━━━━━━━━━━━━━━━━━━━━━━━━\u001b[0m \u001b[32m2.4/2.4 MB\u001b[0m \u001b[31m12.2 MB/s\u001b[0m eta \u001b[36m0:00:00\u001b[0m\n",
            "\u001b[?25hInstalling collected packages: safetensors, tokenizers, transformers\n",
            "Successfully installed safetensors-0.4.4 tokenizers-0.19.1 transformers-4.44.0\n"
          ]
        }
      ],
      "source": [
        "# !pip install transformers"
      ]
    },
    {
      "cell_type": "code",
      "execution_count": 1,
      "metadata": {
        "id": "586pL8PEtkPP"
      },
      "outputs": [
        {
          "name": "stderr",
          "output_type": "stream",
          "text": [
            "/Users/vin_ah/miniconda3/envs/new_env/lib/python3.10/site-packages/tqdm/auto.py:21: TqdmWarning: IProgress not found. Please update jupyter and ipywidgets. See https://ipywidgets.readthedocs.io/en/stable/user_install.html\n",
            "  from .autonotebook import tqdm as notebook_tqdm\n"
          ]
        }
      ],
      "source": [
        "import gradio as gr\n",
        "from transformers import ViTImageProcessor, ViTForImageClassification\n",
        "from PIL import Image\n",
        "import torch\n",
        "\n",
        "# ImageNet-1k에 훈련된 모델과 특징 추출기 로드\n",
        "model_name = \"google/vit-base-patch16-224\"\n",
        "model = ViTForImageClassification.from_pretrained(model_name)\n",
        "image_processor = ViTImageProcessor.from_pretrained(model_name)\n",
        "\n",
        "def classify_image(inp):\n",
        "    inputs = image_processor(images=inp, return_tensors=\"pt\")\n",
        "    pixel_values = inputs[\"pixel_values\"]\n",
        "\n",
        "    outputs = model(pixel_values)\n",
        "    logits = outputs.logits\n",
        "    predicted_index = torch.argmax(logits, 1)[0].item()\n",
        "\n",
        "    label = model.config.id2label[predicted_index]\n",
        "    return label"
      ]
    },
    {
      "cell_type": "code",
      "execution_count": 2,
      "metadata": {
        "id": "5K8Ao0GX0IUX"
      },
      "outputs": [
        {
          "name": "stdout",
          "output_type": "stream",
          "text": [
            "Running on local URL:  http://127.0.0.1:7860\n",
            "\n",
            "To create a public link, set `share=True` in `launch()`.\n"
          ]
        },
        {
          "data": {
            "text/html": [
              "<div><iframe src=\"http://127.0.0.1:7860/\" width=\"100%\" height=\"500\" allow=\"autoplay; camera; microphone; clipboard-read; clipboard-write;\" frameborder=\"0\" allowfullscreen></iframe></div>"
            ],
            "text/plain": [
              "<IPython.core.display.HTML object>"
            ]
          },
          "metadata": {},
          "output_type": "display_data"
        },
        {
          "data": {
            "text/plain": []
          },
          "execution_count": 2,
          "metadata": {},
          "output_type": "execute_result"
        },
        {
          "name": "stderr",
          "output_type": "stream",
          "text": [
            "Traceback (most recent call last):\n",
            "  File \"/Users/vin_ah/miniconda3/envs/new_env/lib/python3.10/site-packages/gradio/queueing.py\", line 536, in process_events\n",
            "    response = await route_utils.call_process_api(\n",
            "  File \"/Users/vin_ah/miniconda3/envs/new_env/lib/python3.10/site-packages/gradio/route_utils.py\", line 288, in call_process_api\n",
            "    output = await app.get_blocks().process_api(\n",
            "  File \"/Users/vin_ah/miniconda3/envs/new_env/lib/python3.10/site-packages/gradio/blocks.py\", line 1931, in process_api\n",
            "    result = await self.call_function(\n",
            "  File \"/Users/vin_ah/miniconda3/envs/new_env/lib/python3.10/site-packages/gradio/blocks.py\", line 1516, in call_function\n",
            "    prediction = await anyio.to_thread.run_sync(  # type: ignore\n",
            "  File \"/Users/vin_ah/miniconda3/envs/new_env/lib/python3.10/site-packages/anyio/to_thread.py\", line 56, in run_sync\n",
            "    return await get_async_backend().run_sync_in_worker_thread(\n",
            "  File \"/Users/vin_ah/miniconda3/envs/new_env/lib/python3.10/site-packages/anyio/_backends/_asyncio.py\", line 2177, in run_sync_in_worker_thread\n",
            "    return await future\n",
            "  File \"/Users/vin_ah/miniconda3/envs/new_env/lib/python3.10/site-packages/anyio/_backends/_asyncio.py\", line 859, in run\n",
            "    result = context.run(func, *args)\n",
            "  File \"/Users/vin_ah/miniconda3/envs/new_env/lib/python3.10/site-packages/gradio/utils.py\", line 826, in wrapper\n",
            "    response = f(*args, **kwargs)\n",
            "  File \"/var/folders/s2/kqf29pt97w527q67cq0htzc80000gn/T/ipykernel_5284/3912663043.py\", line 12, in classify_image\n",
            "    inputs = image_processor(images=inp, return_tensors=\"pt\")\n",
            "  File \"/Users/vin_ah/miniconda3/envs/new_env/lib/python3.10/site-packages/transformers/image_processing_utils.py\", line 41, in __call__\n",
            "    return self.preprocess(images, **kwargs)\n",
            "  File \"/Users/vin_ah/miniconda3/envs/new_env/lib/python3.10/site-packages/transformers/utils/generic.py\", line 852, in wrapper\n",
            "    return func(*args, **valid_kwargs)\n",
            "  File \"/Users/vin_ah/miniconda3/envs/new_env/lib/python3.10/site-packages/transformers/models/vit/image_processing_vit.py\", line 218, in preprocess\n",
            "    images = make_list_of_images(images)\n",
            "  File \"/Users/vin_ah/miniconda3/envs/new_env/lib/python3.10/site-packages/transformers/image_utils.py\", line 205, in make_list_of_images\n",
            "    raise ValueError(\n",
            "ValueError: Invalid image type. Expected either PIL.Image.Image, numpy.ndarray, torch.Tensor, tf.Tensor or jax.ndarray, but got <class 'NoneType'>.\n",
            "Traceback (most recent call last):\n",
            "  File \"/Users/vin_ah/miniconda3/envs/new_env/lib/python3.10/site-packages/gradio/queueing.py\", line 536, in process_events\n",
            "    response = await route_utils.call_process_api(\n",
            "  File \"/Users/vin_ah/miniconda3/envs/new_env/lib/python3.10/site-packages/gradio/route_utils.py\", line 288, in call_process_api\n",
            "    output = await app.get_blocks().process_api(\n",
            "  File \"/Users/vin_ah/miniconda3/envs/new_env/lib/python3.10/site-packages/gradio/blocks.py\", line 1931, in process_api\n",
            "    result = await self.call_function(\n",
            "  File \"/Users/vin_ah/miniconda3/envs/new_env/lib/python3.10/site-packages/gradio/blocks.py\", line 1516, in call_function\n",
            "    prediction = await anyio.to_thread.run_sync(  # type: ignore\n",
            "  File \"/Users/vin_ah/miniconda3/envs/new_env/lib/python3.10/site-packages/anyio/to_thread.py\", line 56, in run_sync\n",
            "    return await get_async_backend().run_sync_in_worker_thread(\n",
            "  File \"/Users/vin_ah/miniconda3/envs/new_env/lib/python3.10/site-packages/anyio/_backends/_asyncio.py\", line 2177, in run_sync_in_worker_thread\n",
            "    return await future\n",
            "  File \"/Users/vin_ah/miniconda3/envs/new_env/lib/python3.10/site-packages/anyio/_backends/_asyncio.py\", line 859, in run\n",
            "    result = context.run(func, *args)\n",
            "  File \"/Users/vin_ah/miniconda3/envs/new_env/lib/python3.10/site-packages/gradio/utils.py\", line 826, in wrapper\n",
            "    response = f(*args, **kwargs)\n",
            "  File \"/var/folders/s2/kqf29pt97w527q67cq0htzc80000gn/T/ipykernel_5284/3912663043.py\", line 12, in classify_image\n",
            "    inputs = image_processor(images=inp, return_tensors=\"pt\")\n",
            "  File \"/Users/vin_ah/miniconda3/envs/new_env/lib/python3.10/site-packages/transformers/image_processing_utils.py\", line 41, in __call__\n",
            "    return self.preprocess(images, **kwargs)\n",
            "  File \"/Users/vin_ah/miniconda3/envs/new_env/lib/python3.10/site-packages/transformers/utils/generic.py\", line 852, in wrapper\n",
            "    return func(*args, **valid_kwargs)\n",
            "  File \"/Users/vin_ah/miniconda3/envs/new_env/lib/python3.10/site-packages/transformers/models/vit/image_processing_vit.py\", line 218, in preprocess\n",
            "    images = make_list_of_images(images)\n",
            "  File \"/Users/vin_ah/miniconda3/envs/new_env/lib/python3.10/site-packages/transformers/image_utils.py\", line 205, in make_list_of_images\n",
            "    raise ValueError(\n",
            "ValueError: Invalid image type. Expected either PIL.Image.Image, numpy.ndarray, torch.Tensor, tf.Tensor or jax.ndarray, but got <class 'NoneType'>.\n",
            "Traceback (most recent call last):\n",
            "  File \"/Users/vin_ah/miniconda3/envs/new_env/lib/python3.10/site-packages/gradio/queueing.py\", line 536, in process_events\n",
            "    response = await route_utils.call_process_api(\n",
            "  File \"/Users/vin_ah/miniconda3/envs/new_env/lib/python3.10/site-packages/gradio/route_utils.py\", line 288, in call_process_api\n",
            "    output = await app.get_blocks().process_api(\n",
            "  File \"/Users/vin_ah/miniconda3/envs/new_env/lib/python3.10/site-packages/gradio/blocks.py\", line 1931, in process_api\n",
            "    result = await self.call_function(\n",
            "  File \"/Users/vin_ah/miniconda3/envs/new_env/lib/python3.10/site-packages/gradio/blocks.py\", line 1516, in call_function\n",
            "    prediction = await anyio.to_thread.run_sync(  # type: ignore\n",
            "  File \"/Users/vin_ah/miniconda3/envs/new_env/lib/python3.10/site-packages/anyio/to_thread.py\", line 56, in run_sync\n",
            "    return await get_async_backend().run_sync_in_worker_thread(\n",
            "  File \"/Users/vin_ah/miniconda3/envs/new_env/lib/python3.10/site-packages/anyio/_backends/_asyncio.py\", line 2177, in run_sync_in_worker_thread\n",
            "    return await future\n",
            "  File \"/Users/vin_ah/miniconda3/envs/new_env/lib/python3.10/site-packages/anyio/_backends/_asyncio.py\", line 859, in run\n",
            "    result = context.run(func, *args)\n",
            "  File \"/Users/vin_ah/miniconda3/envs/new_env/lib/python3.10/site-packages/gradio/utils.py\", line 826, in wrapper\n",
            "    response = f(*args, **kwargs)\n",
            "  File \"/var/folders/s2/kqf29pt97w527q67cq0htzc80000gn/T/ipykernel_5284/3912663043.py\", line 12, in classify_image\n",
            "    inputs = image_processor(images=inp, return_tensors=\"pt\")\n",
            "  File \"/Users/vin_ah/miniconda3/envs/new_env/lib/python3.10/site-packages/transformers/image_processing_utils.py\", line 41, in __call__\n",
            "    return self.preprocess(images, **kwargs)\n",
            "  File \"/Users/vin_ah/miniconda3/envs/new_env/lib/python3.10/site-packages/transformers/utils/generic.py\", line 852, in wrapper\n",
            "    return func(*args, **valid_kwargs)\n",
            "  File \"/Users/vin_ah/miniconda3/envs/new_env/lib/python3.10/site-packages/transformers/models/vit/image_processing_vit.py\", line 218, in preprocess\n",
            "    images = make_list_of_images(images)\n",
            "  File \"/Users/vin_ah/miniconda3/envs/new_env/lib/python3.10/site-packages/transformers/image_utils.py\", line 205, in make_list_of_images\n",
            "    raise ValueError(\n",
            "ValueError: Invalid image type. Expected either PIL.Image.Image, numpy.ndarray, torch.Tensor, tf.Tensor or jax.ndarray, but got <class 'NoneType'>.\n",
            "Traceback (most recent call last):\n",
            "  File \"/Users/vin_ah/miniconda3/envs/new_env/lib/python3.10/site-packages/gradio/queueing.py\", line 536, in process_events\n",
            "    response = await route_utils.call_process_api(\n",
            "  File \"/Users/vin_ah/miniconda3/envs/new_env/lib/python3.10/site-packages/gradio/route_utils.py\", line 288, in call_process_api\n",
            "    output = await app.get_blocks().process_api(\n",
            "  File \"/Users/vin_ah/miniconda3/envs/new_env/lib/python3.10/site-packages/gradio/blocks.py\", line 1931, in process_api\n",
            "    result = await self.call_function(\n",
            "  File \"/Users/vin_ah/miniconda3/envs/new_env/lib/python3.10/site-packages/gradio/blocks.py\", line 1516, in call_function\n",
            "    prediction = await anyio.to_thread.run_sync(  # type: ignore\n",
            "  File \"/Users/vin_ah/miniconda3/envs/new_env/lib/python3.10/site-packages/anyio/to_thread.py\", line 56, in run_sync\n",
            "    return await get_async_backend().run_sync_in_worker_thread(\n",
            "  File \"/Users/vin_ah/miniconda3/envs/new_env/lib/python3.10/site-packages/anyio/_backends/_asyncio.py\", line 2177, in run_sync_in_worker_thread\n",
            "    return await future\n",
            "  File \"/Users/vin_ah/miniconda3/envs/new_env/lib/python3.10/site-packages/anyio/_backends/_asyncio.py\", line 859, in run\n",
            "    result = context.run(func, *args)\n",
            "  File \"/Users/vin_ah/miniconda3/envs/new_env/lib/python3.10/site-packages/gradio/utils.py\", line 826, in wrapper\n",
            "    response = f(*args, **kwargs)\n",
            "  File \"/var/folders/s2/kqf29pt97w527q67cq0htzc80000gn/T/ipykernel_5284/3912663043.py\", line 12, in classify_image\n",
            "    inputs = image_processor(images=inp, return_tensors=\"pt\")\n",
            "  File \"/Users/vin_ah/miniconda3/envs/new_env/lib/python3.10/site-packages/transformers/image_processing_utils.py\", line 41, in __call__\n",
            "    return self.preprocess(images, **kwargs)\n",
            "  File \"/Users/vin_ah/miniconda3/envs/new_env/lib/python3.10/site-packages/transformers/utils/generic.py\", line 852, in wrapper\n",
            "    return func(*args, **valid_kwargs)\n",
            "  File \"/Users/vin_ah/miniconda3/envs/new_env/lib/python3.10/site-packages/transformers/models/vit/image_processing_vit.py\", line 218, in preprocess\n",
            "    images = make_list_of_images(images)\n",
            "  File \"/Users/vin_ah/miniconda3/envs/new_env/lib/python3.10/site-packages/transformers/image_utils.py\", line 205, in make_list_of_images\n",
            "    raise ValueError(\n",
            "ValueError: Invalid image type. Expected either PIL.Image.Image, numpy.ndarray, torch.Tensor, tf.Tensor or jax.ndarray, but got <class 'NoneType'>.\n"
          ]
        }
      ],
      "source": [
        "interface = gr.Interface(\n",
        "    fn=classify_image,\n",
        "    inputs=gr.components.Image(type=\"pil\", label=\"Upload an Image\"),\n",
        "    outputs=\"text\",\n",
        "    live=True\n",
        ")\n",
        "\n",
        "interface.launch()"
      ]
    },
    {
      "cell_type": "code",
      "execution_count": null,
      "metadata": {},
      "outputs": [],
      "source": []
    }
  ],
  "metadata": {
    "colab": {
      "provenance": []
    },
    "kernelspec": {
      "display_name": "Python 3",
      "name": "python3"
    },
    "language_info": {
      "codemirror_mode": {
        "name": "ipython",
        "version": 3
      },
      "file_extension": ".py",
      "mimetype": "text/x-python",
      "name": "python",
      "nbconvert_exporter": "python",
      "pygments_lexer": "ipython3",
      "version": "3.10.14"
    }
  },
  "nbformat": 4,
  "nbformat_minor": 0
}
