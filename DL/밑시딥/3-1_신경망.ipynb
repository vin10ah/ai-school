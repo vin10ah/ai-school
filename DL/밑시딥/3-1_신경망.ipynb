{
  "cells": [
    {
      "cell_type": "markdown",
      "metadata": {
        "id": "o2v73J4161tP"
      },
      "source": [
        "벡터 $[0,1,2,3,4,5,6,7,8]$를 먼저 만들고 $3 \\times 3$행렬로 reshape을 합니다."
      ]
    },
    {
      "cell_type": "code",
      "execution_count": 5,
      "metadata": {
        "id": "TRfRuOvT61tT"
      },
      "outputs": [
        {
          "data": {
            "text/plain": [
              "array([[0, 1, 2],\n",
              "       [3, 4, 5],\n",
              "       [6, 7, 8]])"
            ]
          },
          "execution_count": 5,
          "metadata": {},
          "output_type": "execute_result"
        }
      ],
      "source": [
        "import numpy as np\n",
        "\n",
        "vec = np.array([0, 1, 2, 3, 4, 5, 6, 7, 8])\n",
        "\n",
        "vec = vec.reshape(3,3)\n",
        "vec"
      ]
    },
    {
      "cell_type": "markdown",
      "metadata": {
        "id": "_n0Tbfn061tV"
      },
      "source": [
        "$3 \\times 3$ 행렬에 숫자 1을 더하라고 하면 numpy는 모든 항에 1을 더하라는 뜻으로 받아들입니다."
      ]
    },
    {
      "cell_type": "code",
      "execution_count": 7,
      "metadata": {
        "id": "x40xLvgo61tV"
      },
      "outputs": [
        {
          "data": {
            "text/plain": [
              "array([[ 2,  3,  4],\n",
              "       [ 5,  6,  7],\n",
              "       [ 8,  9, 10]])"
            ]
          },
          "execution_count": 7,
          "metadata": {},
          "output_type": "execute_result"
        }
      ],
      "source": [
        "# 브로드캐스팅 이용\n",
        "\n",
        "vec+1"
      ]
    },
    {
      "cell_type": "markdown",
      "metadata": {
        "id": "VtovACsJ61tW"
      },
      "source": [
        "$3 \\times 3$ 행렬에 행벡터 $[1,2,3]$을 더하라고 하면 numpy는 각 행에 행벡터 $[1,2,3]$을 더하라는 뜻으로 받아들입니다."
      ]
    },
    {
      "cell_type": "code",
      "execution_count": 8,
      "metadata": {
        "id": "Yyw2M1l861tW"
      },
      "outputs": [
        {
          "data": {
            "text/plain": [
              "array([[ 2,  4,  6],\n",
              "       [ 5,  7,  9],\n",
              "       [ 8, 10, 12]])"
            ]
          },
          "execution_count": 8,
          "metadata": {},
          "output_type": "execute_result"
        }
      ],
      "source": [
        "# 브로드캐스팅 이용\n",
        "vec + [1, 2, 3]\n"
      ]
    },
    {
      "cell_type": "markdown",
      "metadata": {
        "id": "mpEReuNC61tW"
      },
      "source": [
        "$3 \\times 3$ 행렬에 열벡터 $\\begin{bmatrix}1\\\\2\\\\3\\end{bmatrix}$을 더하라고 하면 numpy는 각 열에 열벡터 $\\begin{bmatrix}1\\\\2\\\\3\\end{bmatrix}$을 더하라는 뜻으로 받아들입니다."
      ]
    },
    {
      "cell_type": "code",
      "execution_count": 10,
      "metadata": {
        "id": "bNXf9LYx61tX"
      },
      "outputs": [
        {
          "data": {
            "text/plain": [
              "array([[ 2,  4,  6],\n",
              "       [ 5,  7,  9],\n",
              "       [ 8, 10, 12]])"
            ]
          },
          "execution_count": 10,
          "metadata": {},
          "output_type": "execute_result"
        }
      ],
      "source": [
        "# 브로드캐스팅 이용\n",
        "\n",
        "vec + np.array([1, 2, 3]).T"
      ]
    },
    {
      "cell_type": "markdown",
      "metadata": {
        "id": "cSJ1a3rg61tX"
      },
      "source": [
        "### mnist_show.py를 수정하여 2,3,4번째 변형된 이미지가 출력되도록 하시오.  \n",
        "\n",
        "![image-4.png](attachment:image-4.png)"
      ]
    },
    {
      "cell_type": "code",
      "execution_count": 11,
      "metadata": {
        "id": "USfgRpHy61tX"
      },
      "outputs": [],
      "source": [
        "import sys\n",
        "sys.path.append('C:/Users/user/Downloads/deep-learning-from-scratch-master/') # 각자의 경로로 수정해주세요."
      ]
    },
    {
      "cell_type": "markdown",
      "metadata": {
        "id": "HiNw0VGs61tX"
      },
      "source": [
        "컴퓨터가 이미지를 이해하는 방식은 행렬입니다."
      ]
    },
    {
      "cell_type": "code",
      "execution_count": null,
      "metadata": {
        "id": "i9Sj5LEo61tY"
      },
      "outputs": [],
      "source": [
        "import numpy as np\n",
        "from dataset.mnist import load_mnist\n",
        "\n",
        "np.set_printoptions(linewidth=200,threshold=1000)\n",
        "\n",
        "(x_train, t_train), (x_test, t_test) = load_mnist(flatten=False, normalize=False)\n",
        "\n",
        "x = x_train[0][0]\n",
        "\n",
        "print(x)"
      ]
    },
    {
      "cell_type": "markdown",
      "metadata": {
        "id": "MxuzOfUE61tY"
      },
      "source": [
        "행렬의 항들은 픽셀의 밝기를 나타냅니다.  \n",
        "$255 - [x_{i,j}]$은 스칼라 빼기 행렬이라서 수학에서는 잘못된 표현이지만 파이썬은 $[255 - x_{i,j}]$로 이해합니다.  \n",
        "어두운 픽셀은 밝아지고 밝은 픽셀은 어두워집니다."
      ]
    },
    {
      "cell_type": "code",
      "execution_count": null,
      "metadata": {
        "id": "MvStZkvd61tZ"
      },
      "outputs": [],
      "source": []
    },
    {
      "cell_type": "markdown",
      "metadata": {
        "id": "2PXkUqqQ61tZ"
      },
      "source": [
        "이미지를 대각선으로 뒤집는 변환은 선형대수학 관점에서는 transpose입니다."
      ]
    },
    {
      "cell_type": "code",
      "execution_count": null,
      "metadata": {
        "id": "L075NKBb61tZ"
      },
      "outputs": [],
      "source": []
    },
    {
      "cell_type": "markdown",
      "metadata": {
        "id": "mO6p-rTQ61ta"
      },
      "source": [
        "$128 - [x_{i,j}]$은 스칼라 빼기 행렬이라서 수학에서는 잘못된 표현이지만 파이썬은 $[128 - x_{i,j}]$로 이해합니다.  \n",
        "255를 넘어가거나 0보다 작게 되면 시계방식 (modulo 방식)으로 0부터 255로 맞춰줍니다.  \n",
        "어두운 픽셀과 밝은 픽셀은 1회색이 됩니다.  \n",
        "회색 픽셀은 128보다 좀 작으면 어두운 색으로 128보다 좀 크면 밝은색이 됩니다."
      ]
    },
    {
      "cell_type": "code",
      "execution_count": null,
      "metadata": {
        "id": "eMq82ppN61ta"
      },
      "outputs": [],
      "source": []
    },
    {
      "cell_type": "markdown",
      "metadata": {},
      "source": []
    },
    {
      "cell_type": "markdown",
      "metadata": {
        "id": "X51rgljl61ta"
      },
      "source": [
        "28×28 해상도의 검정 사진을 먼저 만든후 i열에 원본 이미지의 오른쪽으로부터 세서 i열을 복사합니다.  \n",
        "결과적으로 좌우 반전 시킨 행렬이 됩니다."
      ]
    },
    {
      "cell_type": "code",
      "execution_count": null,
      "metadata": {
        "id": "2Jo_e80N61ta"
      },
      "outputs": [],
      "source": [
        "x1 = np.zeros((28,28), dtype=int)\n",
        "for i in range(28):\n",
        "    x1[:,i] =\n",
        "print(x1)"
      ]
    },
    {
      "cell_type": "markdown",
      "metadata": {
        "id": "UACzHYnV61tb"
      },
      "source": [
        "28×28 해상도의 검정 사진을 먼저 만든후 i행에 원본 이미지의 아래로부터 세서 i행을 복사합니다.  \n",
        "결과적으로 상하 반전 시킨 행렬이 됩니다."
      ]
    },
    {
      "cell_type": "code",
      "execution_count": null,
      "metadata": {
        "id": "6Pct9VKd61tb"
      },
      "outputs": [],
      "source": [
        "x2 = np.zeros((28,28), dtype=int)\n",
        "for i in range(28):\n",
        "    x2[i,:] =\n",
        "print(x2)"
      ]
    },
    {
      "cell_type": "markdown",
      "metadata": {
        "id": "UMA-w3oa61tb"
      },
      "source": [
        "따라서, 마지막 줄 코드 img_show(img)를 간단히 img_show(255 - img)와 img_show(img.T)로 수정해주면 두번째와 세번째 이미지를 각각 얻을수 있습니다.\n",
        "\n",
        "주피터 노트북에서 이미지를 출력하기 위해서 PIL 라이브러리 대신 plt.imshow를 사용하겠습니다."
      ]
    },
    {
      "cell_type": "code",
      "execution_count": null,
      "metadata": {
        "id": "IyTKUcj461tb",
        "scrolled": false
      },
      "outputs": [],
      "source": [
        "import matplotlib.pyplot as plt\n",
        "\n",
        "x = x_train[0][0]\n",
        "\n",
        "plt.imshow(x, cmap=plt.cm.gray)\n",
        "plt.xticks([])\n",
        "plt.yticks([])\n",
        "plt.show()\n",
        "\n",
        "plt.imshow(255 - x, cmap=plt.cm.gray)\n",
        "plt.xticks([])\n",
        "plt.yticks([])\n",
        "plt.show()\n",
        "\n",
        "plt.imshow(x.T, cmap=plt.cm.gray)\n",
        "plt.xticks([])\n",
        "plt.yticks([])\n",
        "plt.show()\n",
        "\n",
        "plt.imshow(128 - x, cmap=plt.cm.gray)\n",
        "plt.xticks([])\n",
        "plt.yticks([])\n",
        "plt.show()\n",
        "\n",
        "x1 = np.zeros((28,28), dtype=int)\n",
        "for i in range(28):\n",
        "    x1[:,i] = x[:,27-i]\n",
        "plt.imshow(x1, cmap=plt.cm.gray)\n",
        "plt.xticks([])\n",
        "plt.yticks([])\n",
        "plt.show()\n",
        "\n",
        "x2 = np.zeros((28,28), dtype=int)\n",
        "for i in range(28):\n",
        "    x2[i,:] = x[27-i,:]\n",
        "plt.imshow(x2, cmap=plt.cm.gray)\n",
        "plt.xticks([])\n",
        "plt.yticks([])\n",
        "plt.show()"
      ]
    },
    {
      "cell_type": "markdown",
      "metadata": {
        "id": "X2AReeF_61tc"
      },
      "source": [
        "### 적절한 5 X 5 행렬에 `plt.imshow`를 적용하여 다음 여섯 이미지를 출력하시오. (cmap=plt.cm.gray)\n",
        "![image.png](attachment:image.png)"
      ]
    },
    {
      "cell_type": "markdown",
      "metadata": {
        "id": "xhoa_JZC61tc"
      },
      "source": [
        "작은 사각형 하나 하나가 픽셀입니다. $5 \\times 5$ 해상도 이미지네요.\n",
        "밝기의 패턴을 보고 $5 \\times 5$ 행렬을 만듭니다."
      ]
    },
    {
      "cell_type": "code",
      "execution_count": null,
      "metadata": {
        "id": "894QB3Xd61tc"
      },
      "outputs": [],
      "source": [
        "x ="
      ]
    },
    {
      "cell_type": "markdown",
      "metadata": {
        "id": "2uMws54B61tc"
      },
      "source": [
        "plt.imshow를 이용해 행렬을 이미지로 변환합니다."
      ]
    },
    {
      "cell_type": "code",
      "execution_count": null,
      "metadata": {
        "id": "y9UHomJT61td"
      },
      "outputs": [],
      "source": [
        "plt.imshow(x,cmap=plt.cm.gray)\n",
        "plt.xticks([])\n",
        "plt.yticks([])\n",
        "plt.show()"
      ]
    },
    {
      "cell_type": "markdown",
      "metadata": {
        "id": "PQWkrVhW61td"
      },
      "source": [
        "transpose를 합니다."
      ]
    },
    {
      "cell_type": "code",
      "execution_count": null,
      "metadata": {
        "id": "zqNJWmSt61td"
      },
      "outputs": [],
      "source": [
        "plt.imshow(x.T,cmap=plt.cm.gray)\n",
        "plt.xticks([])\n",
        "plt.yticks([])\n",
        "plt.show()"
      ]
    },
    {
      "cell_type": "markdown",
      "metadata": {
        "id": "rPKeloVc61td"
      },
      "source": [
        "밝은 픽셀은 어둡게 어두운 픽셀은 밝게 뒤집습니다.\n",
        "최대 밝기가 24이므로 24에서 빼주면 대소관계가 뒤집힙니다.\n",
        "행렬로 쓸필요 없이 숫자 24에서 빼면 파이썬이 브로드케스팅으로 처리합니다."
      ]
    },
    {
      "cell_type": "code",
      "execution_count": null,
      "metadata": {
        "id": "DJQYIDtg61te"
      },
      "outputs": [],
      "source": [
        "plt.imshow(24-x,cmap=plt.cm.gray)\n",
        "plt.xticks([])\n",
        "plt.yticks([])\n",
        "plt.show()"
      ]
    },
    {
      "cell_type": "markdown",
      "metadata": {
        "id": "KtqZw2kG61te"
      },
      "source": [
        "중앙행만 1이고 나머지는 0인 행렬을 만듭니다.\n",
        "파이썬은 0부터 출발하기 때문에 2행이 중앙행입니다."
      ]
    },
    {
      "cell_type": "code",
      "execution_count": null,
      "metadata": {
        "id": "dUzGdfyA61te"
      },
      "outputs": [],
      "source": [
        "x1=np.zeros((5,5))\n",
        "x1[2,:]=1\n",
        "print(x)"
      ]
    },
    {
      "cell_type": "code",
      "execution_count": null,
      "metadata": {
        "id": "N4m52uF061te"
      },
      "outputs": [],
      "source": [
        "plt.imshow(x1,cmap=plt.cm.gray)\n",
        "plt.xticks([])\n",
        "plt.yticks([])\n",
        "plt.show()"
      ]
    },
    {
      "cell_type": "markdown",
      "metadata": {
        "id": "sUd5iBPN61tf"
      },
      "source": [
        "중앙열만 1이고 나머지는 0인 행렬을 만듭니다. 파이썬은 0부터 출발하기 때문에 2열이 중앙열입니다."
      ]
    },
    {
      "cell_type": "code",
      "execution_count": null,
      "metadata": {
        "id": "hkwtwpMB61tf"
      },
      "outputs": [],
      "source": [
        "x2=np.zeros((5,5))\n",
        "x2[:,2]=1\n",
        "print(x2)"
      ]
    },
    {
      "cell_type": "code",
      "execution_count": null,
      "metadata": {
        "id": "ygykbON961tf"
      },
      "outputs": [],
      "source": [
        "plt.imshow(x2,cmap=plt.cm.gray)\n",
        "plt.xticks([])\n",
        "plt.yticks([])\n",
        "plt.show()"
      ]
    },
    {
      "cell_type": "markdown",
      "metadata": {
        "id": "ou5tzM_o61tg"
      },
      "source": [
        "두 행렬을 더합니다."
      ]
    },
    {
      "cell_type": "code",
      "execution_count": null,
      "metadata": {
        "id": "Ln_BWgRh61tg"
      },
      "outputs": [],
      "source": [
        "print(x1+x2)\n",
        "\n",
        "plt.imshow(x1+x2,cmap=plt.cm.gray)\n",
        "plt.xticks([])\n",
        "plt.yticks([])\n",
        "plt.show()"
      ]
    },
    {
      "cell_type": "markdown",
      "metadata": {
        "id": "C5ABSW8W61tg"
      },
      "source": [
        "####  훈련데이터의 라벨별 데이터 개수를 출력하는 코드"
      ]
    },
    {
      "cell_type": "code",
      "execution_count": null,
      "metadata": {
        "id": "e8e6BGO161tg"
      },
      "outputs": [],
      "source": [
        "for i in range(10):\n",
        "    print(str(i)+'의 개수 : ' + str(np.sum(t_train==i)))"
      ]
    },
    {
      "cell_type": "markdown",
      "metadata": {
        "id": "l821uzY261tg"
      },
      "source": [
        "### MNIST imshow.py를 수정하여 훈련용 MNIST데이터중 라벨이 2인 데이터 첫 25개를 다음과 같이 출력하시오.\n",
        "![image.png](attachment:image.png)"
      ]
    },
    {
      "cell_type": "markdown",
      "metadata": {
        "id": "5cPJpc8K61th"
      },
      "source": [
        "라벨이 2인 인덱스를 모은 리스트를 먼저 만듭니다."
      ]
    },
    {
      "cell_type": "code",
      "execution_count": null,
      "metadata": {
        "id": "CTeWkX0X61th"
      },
      "outputs": [],
      "source": [
        "N=2\n",
        "N_index=[]\n",
        "\n",
        "for k in range(len(x_train)):\n",
        "    if t_train[k]==N:\n",
        "        N_index.append(k)\n",
        "\n",
        "print(N_index)"
      ]
    },
    {
      "cell_type": "code",
      "execution_count": null,
      "metadata": {
        "id": "Ob1_yzwv61th"
      },
      "outputs": [],
      "source": [
        "plt.figure(figsize=(10,10))\n",
        "\n",
        "for i in range(25):\n",
        "    plt.subplot(5,5,i+1)\n",
        "    plt.xticks([])\n",
        "    plt.yticks([])\n",
        "    plt.imshow(x_train[N_index[i]][0], cmap=plt.cm.binary)\n",
        "\n",
        "plt.show()"
      ]
    },
    {
      "cell_type": "markdown",
      "metadata": {
        "id": "e3C6mBsv61th"
      },
      "source": [
        "### MNIST_imshow.py를 수정하여 훈련용 MNIST데이터중 랜덤하게 25개를 뽑아서 5 X5 모아찍기로 출력하시오."
      ]
    },
    {
      "cell_type": "markdown",
      "metadata": {
        "id": "msH4aVhg61th"
      },
      "source": [
        "`np.random.choice`를 이용해 인덱스 $0,1,2,\\cdots, 59999$w중에서 25개의 숫자를 랜덤하게 뽑습니다.  \n",
        "랜덤하게 뽑으므로 실행할때마다 뽑히는 인덱스는 달라집니다."
      ]
    },
    {
      "cell_type": "code",
      "execution_count": null,
      "metadata": {
        "id": "nlJve12c61ti"
      },
      "outputs": [],
      "source": [
        "random_index = np.random.choice(len(x_train), 25)\n",
        "print(random_index)"
      ]
    },
    {
      "cell_type": "code",
      "execution_count": null,
      "metadata": {
        "id": "ZDK7gUb161ti"
      },
      "outputs": [],
      "source": [
        "plt.figure(figsize=(10,10))\n",
        "\n",
        "for i in range(25):\n",
        "    plt.subplot(5,5,i+1)\n",
        "    plt.xticks([])\n",
        "    plt.yticks([])\n",
        "    plt.imshow(x_train[random_index[i]][0], cmap=plt.cm.binary)\n",
        "\n",
        "plt.show()"
      ]
    },
    {
      "cell_type": "code",
      "execution_count": null,
      "metadata": {
        "id": "LCFPrEet61ti"
      },
      "outputs": [],
      "source": []
    }
  ],
  "metadata": {
    "colab": {
      "provenance": []
    },
    "kernelspec": {
      "display_name": "Python 3 (ipykernel)",
      "language": "python",
      "name": "python3"
    },
    "language_info": {
      "codemirror_mode": {
        "name": "ipython",
        "version": 3
      },
      "file_extension": ".py",
      "mimetype": "text/x-python",
      "name": "python",
      "nbconvert_exporter": "python",
      "pygments_lexer": "ipython3",
      "version": "3.10.14"
    }
  },
  "nbformat": 4,
  "nbformat_minor": 0
}
